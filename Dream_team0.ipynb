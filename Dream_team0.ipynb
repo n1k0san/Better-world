{
  "cells": [
    {
      "cell_type": "markdown",
      "metadata": {
        "id": "view-in-github",
        "colab_type": "text"
      },
      "source": [
        "<a href=\"https://colab.research.google.com/github/n1k0san/Better-world/blob/main/Dream_team0.ipynb\" target=\"_parent\"><img src=\"https://colab.research.google.com/assets/colab-badge.svg\" alt=\"Open In Colab\"/></a>"
      ]
    },
    {
      "cell_type": "markdown",
      "metadata": {
        "id": "jBnrid8cPdhj"
      },
      "source": [
        "# Imports"
      ]
    },
    {
      "cell_type": "code",
      "execution_count": 48,
      "metadata": {
        "id": "LXsNVllQPXFi"
      },
      "outputs": [],
      "source": [
        "# Standard stuff\n",
        "import pandas as pd #for manipulating data\n",
        "import numpy as np #for manipulating data\n",
        "\n",
        "# Dataviz\n",
        "import matplotlib.pyplot as plt #for custom graphs at the end\n",
        "import seaborn as sns #for custom graphs at the end\n",
        "\n",
        "# Altair\n",
        "import altair as alt\n",
        "\n",
        "# Other tooling\n",
        "# import os #needed to use Environment Variables in Domino\n",
        "\n",
        "# UML\n",
        "# from sklearn.preprocessing import StandardScaler # import and instantiate scaler\n",
        "\n",
        "# SML\n",
        "# import sklearn #for building models\n",
        "# import xgboost as xgb #for building models\n",
        "# import sklearn.ensemble #for building models\n",
        "# from sklearn.model_selection import train_test_split #for creating a hold-out sample\n",
        "# from sklearn import datasets # Boston Housing Data"
      ]
    },
    {
      "cell_type": "code",
      "execution_count": 49,
      "metadata": {
        "id": "KFG5XAkRU6fQ"
      },
      "outputs": [],
      "source": [
        "jobs = pd.read_csv('https://raw.githubusercontent.com/fr3drikk/the_dream_team-/main/App/Data/jobs.csv')"
      ]
    },
    {
      "cell_type": "markdown",
      "metadata": {
        "id": "Q2OeZdm2Zv8-"
      },
      "source": [
        "### Looking through general info from the data"
      ]
    },
    {
      "cell_type": "code",
      "execution_count": 50,
      "metadata": {
        "id": "VDM_yzv8bI53",
        "colab": {
          "base_uri": "https://localhost:8080/"
        },
        "outputId": "9862778b-d08d-4640-d97c-6954b8447107"
      },
      "outputs": [
        {
          "output_type": "execute_result",
          "data": {
            "text/plain": [
              "(84090, 22)"
            ]
          },
          "metadata": {},
          "execution_count": 50
        }
      ],
      "source": [
        "# First we check the shape of the data.\n",
        "jobs.shape"
      ]
    },
    {
      "cell_type": "code",
      "execution_count": 51,
      "metadata": {
        "id": "IaN_-91fa6Sc",
        "colab": {
          "base_uri": "https://localhost:8080/",
          "height": 1000
        },
        "outputId": "993d1b7c-38e3-44a3-8a7c-d699668603d8"
      },
      "outputs": [
        {
          "output_type": "execute_result",
          "data": {
            "text/plain": [
              "       Job.ID  Provider Status  \\\n",
              "0         111         1   open   \n",
              "1         113         1   open   \n",
              "2         117         1   open   \n",
              "3         121         1   open   \n",
              "4         127         1   open   \n",
              "...       ...       ...    ...   \n",
              "84085      82         1   open   \n",
              "84086      83         1   open   \n",
              "84087      84         1   open   \n",
              "84088      88         1   open   \n",
              "84089      92         1   open   \n",
              "\n",
              "                                                    Slug  \\\n",
              "0                        palo-alto-ca-tacolicious-server   \n",
              "1        san-francisco-ca-claude-lane-kitchen-staff-chef   \n",
              "2      san-francisco-ca-machka-restaurants-corp-barte...   \n",
              "3                      brisbane-ca-teriyaki-house-server   \n",
              "4      los-angeles-ca-rosa-mexicano-sunset-kitchen-st...   \n",
              "...                                                  ...   \n",
              "84085  san-francisco-ca-national-japanese-american-hi...   \n",
              "84086       larkspur-ca-emporio-rulli-kitchen-staff-chef   \n",
              "84087                san-francisco-ca-onigilly-driver-84   \n",
              "84088  san-francisco-ca-machka-restaurants-corp-line-...   \n",
              "84089               san-jose-ca-kazoo-restaurant-cashier   \n",
              "\n",
              "                                                   Title            Position  \\\n",
              "0                                   Server @ Tacolicious              Server   \n",
              "1                       Kitchen Staff/Chef @ Claude Lane  Kitchen Staff/Chef   \n",
              "2                   Bartender @ Machka Restaurants Corp.           Bartender   \n",
              "3                                Server @ Teriyaki House              Server   \n",
              "4            Kitchen Staff/Chef @ Rosa Mexicano - Sunset  Kitchen Staff/Chef   \n",
              "...                                                  ...                 ...   \n",
              "84085  Book Keeper @ National Japanese American Histo...         Book Keeper   \n",
              "84086                 Kitchen Staff/Chef @ Emporio Rulli  Kitchen Staff/Chef   \n",
              "84087                                  Driver @ Onigilly              Driver   \n",
              "84088               Line Cook @ Machka Restaurants Corp.           Line Cook   \n",
              "84089                         Cashier @ Kazoo Restaurant             Cashier   \n",
              "\n",
              "                                             Company           City  \\\n",
              "0                                        Tacolicious      Palo Alto   \n",
              "1                                        Claude Lane  San Francisco   \n",
              "2                           Machka Restaurants Corp.  San Francisco   \n",
              "3                                     Teriyaki House       Brisbane   \n",
              "4                             Rosa Mexicano - Sunset    Los Angeles   \n",
              "...                                              ...            ...   \n",
              "84085  National Japanese American Historical Society  San Francisco   \n",
              "84086                                  Emporio Rulli       Larkspur   \n",
              "84087                                       Onigilly  San Francisco   \n",
              "84088                       Machka Restaurants Corp.  San Francisco   \n",
              "84089                               Kazoo Restaurant       San Jose   \n",
              "\n",
              "       State.Name State.Code  ...   Longitude               Industry  \\\n",
              "0      California         CA  ... -122.161170     Food and Beverages   \n",
              "1      California         CA  ... -122.404268     Food and Beverages   \n",
              "2      California         CA  ... -122.402963     Food and Beverages   \n",
              "3      California         CA  ... -122.400275     Food and Beverages   \n",
              "4      California         CA  ... -118.460439     Food and Beverages   \n",
              "...           ...        ...  ...         ...                    ...   \n",
              "84085  California         CA  ... -122.429495  Office Administration   \n",
              "84086  California         CA  ... -122.535025     Food and Beverages   \n",
              "84087  California         CA  ... -122.404413     Food and Beverages   \n",
              "84088  California         CA  ... -122.402963     Food and Beverages   \n",
              "84089  California         CA  ... -121.893302     Food and Beverages   \n",
              "\n",
              "       Requirements Salary  Listing.Start  Listing.End Employment.Type  \\\n",
              "0               NaN   8.00            NaN          NaN       Part-Time   \n",
              "1               NaN   0.00            NaN          NaN       Part-Time   \n",
              "2               NaN  11.00            NaN          NaN       Part-Time   \n",
              "3               NaN  10.55            NaN          NaN       Part-Time   \n",
              "4               NaN  10.55            NaN          NaN       Part-Time   \n",
              "...             ...    ...            ...          ...             ...   \n",
              "84085           NaN  20.00            NaN          NaN       Part-Time   \n",
              "84086           NaN  10.55            NaN          NaN       Part-Time   \n",
              "84087           NaN  11.00            NaN          NaN       Part-Time   \n",
              "84088           NaN  13.00            NaN          NaN       Part-Time   \n",
              "84089           NaN  10.00            NaN          NaN       Part-Time   \n",
              "\n",
              "      Education.Required               Created.At               Updated.At  \n",
              "0                    NaN  2013-03-12 02:08:28 UTC  2014-08-16 15:35:36 UTC  \n",
              "1                    NaN  2013-04-12 08:36:36 UTC  2014-08-16 15:35:36 UTC  \n",
              "2                    NaN  2013-07-16 09:34:10 UTC  2014-08-16 15:35:37 UTC  \n",
              "3                    NaN  2013-09-04 15:40:30 UTC  2014-08-16 15:35:38 UTC  \n",
              "4                    NaN  2013-07-17 15:26:18 UTC  2014-08-16 15:35:40 UTC  \n",
              "...                  ...                      ...                      ...  \n",
              "84085                NaN  2013-03-20 06:35:01 UTC  2014-08-16 15:35:27 UTC  \n",
              "84086                NaN  2013-03-20 08:06:43 UTC  2014-08-16 15:35:27 UTC  \n",
              "84087                NaN  2013-03-12 01:47:13 UTC  2014-08-16 15:35:27 UTC  \n",
              "84088                NaN  2013-07-16 08:55:22 UTC  2014-08-16 15:35:28 UTC  \n",
              "84089                NaN  2013-03-27 09:35:04 UTC  2014-08-16 15:35:30 UTC  \n",
              "\n",
              "[84090 rows x 22 columns]"
            ],
            "text/html": [
              "\n",
              "  <div id=\"df-17bc0294-dbf3-4ae0-b828-02c35b4101ad\">\n",
              "    <div class=\"colab-df-container\">\n",
              "      <div>\n",
              "<style scoped>\n",
              "    .dataframe tbody tr th:only-of-type {\n",
              "        vertical-align: middle;\n",
              "    }\n",
              "\n",
              "    .dataframe tbody tr th {\n",
              "        vertical-align: top;\n",
              "    }\n",
              "\n",
              "    .dataframe thead th {\n",
              "        text-align: right;\n",
              "    }\n",
              "</style>\n",
              "<table border=\"1\" class=\"dataframe\">\n",
              "  <thead>\n",
              "    <tr style=\"text-align: right;\">\n",
              "      <th></th>\n",
              "      <th>Job.ID</th>\n",
              "      <th>Provider</th>\n",
              "      <th>Status</th>\n",
              "      <th>Slug</th>\n",
              "      <th>Title</th>\n",
              "      <th>Position</th>\n",
              "      <th>Company</th>\n",
              "      <th>City</th>\n",
              "      <th>State.Name</th>\n",
              "      <th>State.Code</th>\n",
              "      <th>...</th>\n",
              "      <th>Longitude</th>\n",
              "      <th>Industry</th>\n",
              "      <th>Requirements</th>\n",
              "      <th>Salary</th>\n",
              "      <th>Listing.Start</th>\n",
              "      <th>Listing.End</th>\n",
              "      <th>Employment.Type</th>\n",
              "      <th>Education.Required</th>\n",
              "      <th>Created.At</th>\n",
              "      <th>Updated.At</th>\n",
              "    </tr>\n",
              "  </thead>\n",
              "  <tbody>\n",
              "    <tr>\n",
              "      <th>0</th>\n",
              "      <td>111</td>\n",
              "      <td>1</td>\n",
              "      <td>open</td>\n",
              "      <td>palo-alto-ca-tacolicious-server</td>\n",
              "      <td>Server @ Tacolicious</td>\n",
              "      <td>Server</td>\n",
              "      <td>Tacolicious</td>\n",
              "      <td>Palo Alto</td>\n",
              "      <td>California</td>\n",
              "      <td>CA</td>\n",
              "      <td>...</td>\n",
              "      <td>-122.161170</td>\n",
              "      <td>Food and Beverages</td>\n",
              "      <td>NaN</td>\n",
              "      <td>8.00</td>\n",
              "      <td>NaN</td>\n",
              "      <td>NaN</td>\n",
              "      <td>Part-Time</td>\n",
              "      <td>NaN</td>\n",
              "      <td>2013-03-12 02:08:28 UTC</td>\n",
              "      <td>2014-08-16 15:35:36 UTC</td>\n",
              "    </tr>\n",
              "    <tr>\n",
              "      <th>1</th>\n",
              "      <td>113</td>\n",
              "      <td>1</td>\n",
              "      <td>open</td>\n",
              "      <td>san-francisco-ca-claude-lane-kitchen-staff-chef</td>\n",
              "      <td>Kitchen Staff/Chef @ Claude Lane</td>\n",
              "      <td>Kitchen Staff/Chef</td>\n",
              "      <td>Claude Lane</td>\n",
              "      <td>San Francisco</td>\n",
              "      <td>California</td>\n",
              "      <td>CA</td>\n",
              "      <td>...</td>\n",
              "      <td>-122.404268</td>\n",
              "      <td>Food and Beverages</td>\n",
              "      <td>NaN</td>\n",
              "      <td>0.00</td>\n",
              "      <td>NaN</td>\n",
              "      <td>NaN</td>\n",
              "      <td>Part-Time</td>\n",
              "      <td>NaN</td>\n",
              "      <td>2013-04-12 08:36:36 UTC</td>\n",
              "      <td>2014-08-16 15:35:36 UTC</td>\n",
              "    </tr>\n",
              "    <tr>\n",
              "      <th>2</th>\n",
              "      <td>117</td>\n",
              "      <td>1</td>\n",
              "      <td>open</td>\n",
              "      <td>san-francisco-ca-machka-restaurants-corp-barte...</td>\n",
              "      <td>Bartender @ Machka Restaurants Corp.</td>\n",
              "      <td>Bartender</td>\n",
              "      <td>Machka Restaurants Corp.</td>\n",
              "      <td>San Francisco</td>\n",
              "      <td>California</td>\n",
              "      <td>CA</td>\n",
              "      <td>...</td>\n",
              "      <td>-122.402963</td>\n",
              "      <td>Food and Beverages</td>\n",
              "      <td>NaN</td>\n",
              "      <td>11.00</td>\n",
              "      <td>NaN</td>\n",
              "      <td>NaN</td>\n",
              "      <td>Part-Time</td>\n",
              "      <td>NaN</td>\n",
              "      <td>2013-07-16 09:34:10 UTC</td>\n",
              "      <td>2014-08-16 15:35:37 UTC</td>\n",
              "    </tr>\n",
              "    <tr>\n",
              "      <th>3</th>\n",
              "      <td>121</td>\n",
              "      <td>1</td>\n",
              "      <td>open</td>\n",
              "      <td>brisbane-ca-teriyaki-house-server</td>\n",
              "      <td>Server @ Teriyaki House</td>\n",
              "      <td>Server</td>\n",
              "      <td>Teriyaki House</td>\n",
              "      <td>Brisbane</td>\n",
              "      <td>California</td>\n",
              "      <td>CA</td>\n",
              "      <td>...</td>\n",
              "      <td>-122.400275</td>\n",
              "      <td>Food and Beverages</td>\n",
              "      <td>NaN</td>\n",
              "      <td>10.55</td>\n",
              "      <td>NaN</td>\n",
              "      <td>NaN</td>\n",
              "      <td>Part-Time</td>\n",
              "      <td>NaN</td>\n",
              "      <td>2013-09-04 15:40:30 UTC</td>\n",
              "      <td>2014-08-16 15:35:38 UTC</td>\n",
              "    </tr>\n",
              "    <tr>\n",
              "      <th>4</th>\n",
              "      <td>127</td>\n",
              "      <td>1</td>\n",
              "      <td>open</td>\n",
              "      <td>los-angeles-ca-rosa-mexicano-sunset-kitchen-st...</td>\n",
              "      <td>Kitchen Staff/Chef @ Rosa Mexicano - Sunset</td>\n",
              "      <td>Kitchen Staff/Chef</td>\n",
              "      <td>Rosa Mexicano - Sunset</td>\n",
              "      <td>Los Angeles</td>\n",
              "      <td>California</td>\n",
              "      <td>CA</td>\n",
              "      <td>...</td>\n",
              "      <td>-118.460439</td>\n",
              "      <td>Food and Beverages</td>\n",
              "      <td>NaN</td>\n",
              "      <td>10.55</td>\n",
              "      <td>NaN</td>\n",
              "      <td>NaN</td>\n",
              "      <td>Part-Time</td>\n",
              "      <td>NaN</td>\n",
              "      <td>2013-07-17 15:26:18 UTC</td>\n",
              "      <td>2014-08-16 15:35:40 UTC</td>\n",
              "    </tr>\n",
              "    <tr>\n",
              "      <th>...</th>\n",
              "      <td>...</td>\n",
              "      <td>...</td>\n",
              "      <td>...</td>\n",
              "      <td>...</td>\n",
              "      <td>...</td>\n",
              "      <td>...</td>\n",
              "      <td>...</td>\n",
              "      <td>...</td>\n",
              "      <td>...</td>\n",
              "      <td>...</td>\n",
              "      <td>...</td>\n",
              "      <td>...</td>\n",
              "      <td>...</td>\n",
              "      <td>...</td>\n",
              "      <td>...</td>\n",
              "      <td>...</td>\n",
              "      <td>...</td>\n",
              "      <td>...</td>\n",
              "      <td>...</td>\n",
              "      <td>...</td>\n",
              "      <td>...</td>\n",
              "    </tr>\n",
              "    <tr>\n",
              "      <th>84085</th>\n",
              "      <td>82</td>\n",
              "      <td>1</td>\n",
              "      <td>open</td>\n",
              "      <td>san-francisco-ca-national-japanese-american-hi...</td>\n",
              "      <td>Book Keeper @ National Japanese American Histo...</td>\n",
              "      <td>Book Keeper</td>\n",
              "      <td>National Japanese American Historical Society</td>\n",
              "      <td>San Francisco</td>\n",
              "      <td>California</td>\n",
              "      <td>CA</td>\n",
              "      <td>...</td>\n",
              "      <td>-122.429495</td>\n",
              "      <td>Office Administration</td>\n",
              "      <td>NaN</td>\n",
              "      <td>20.00</td>\n",
              "      <td>NaN</td>\n",
              "      <td>NaN</td>\n",
              "      <td>Part-Time</td>\n",
              "      <td>NaN</td>\n",
              "      <td>2013-03-20 06:35:01 UTC</td>\n",
              "      <td>2014-08-16 15:35:27 UTC</td>\n",
              "    </tr>\n",
              "    <tr>\n",
              "      <th>84086</th>\n",
              "      <td>83</td>\n",
              "      <td>1</td>\n",
              "      <td>open</td>\n",
              "      <td>larkspur-ca-emporio-rulli-kitchen-staff-chef</td>\n",
              "      <td>Kitchen Staff/Chef @ Emporio Rulli</td>\n",
              "      <td>Kitchen Staff/Chef</td>\n",
              "      <td>Emporio Rulli</td>\n",
              "      <td>Larkspur</td>\n",
              "      <td>California</td>\n",
              "      <td>CA</td>\n",
              "      <td>...</td>\n",
              "      <td>-122.535025</td>\n",
              "      <td>Food and Beverages</td>\n",
              "      <td>NaN</td>\n",
              "      <td>10.55</td>\n",
              "      <td>NaN</td>\n",
              "      <td>NaN</td>\n",
              "      <td>Part-Time</td>\n",
              "      <td>NaN</td>\n",
              "      <td>2013-03-20 08:06:43 UTC</td>\n",
              "      <td>2014-08-16 15:35:27 UTC</td>\n",
              "    </tr>\n",
              "    <tr>\n",
              "      <th>84087</th>\n",
              "      <td>84</td>\n",
              "      <td>1</td>\n",
              "      <td>open</td>\n",
              "      <td>san-francisco-ca-onigilly-driver-84</td>\n",
              "      <td>Driver @ Onigilly</td>\n",
              "      <td>Driver</td>\n",
              "      <td>Onigilly</td>\n",
              "      <td>San Francisco</td>\n",
              "      <td>California</td>\n",
              "      <td>CA</td>\n",
              "      <td>...</td>\n",
              "      <td>-122.404413</td>\n",
              "      <td>Food and Beverages</td>\n",
              "      <td>NaN</td>\n",
              "      <td>11.00</td>\n",
              "      <td>NaN</td>\n",
              "      <td>NaN</td>\n",
              "      <td>Part-Time</td>\n",
              "      <td>NaN</td>\n",
              "      <td>2013-03-12 01:47:13 UTC</td>\n",
              "      <td>2014-08-16 15:35:27 UTC</td>\n",
              "    </tr>\n",
              "    <tr>\n",
              "      <th>84088</th>\n",
              "      <td>88</td>\n",
              "      <td>1</td>\n",
              "      <td>open</td>\n",
              "      <td>san-francisco-ca-machka-restaurants-corp-line-...</td>\n",
              "      <td>Line Cook @ Machka Restaurants Corp.</td>\n",
              "      <td>Line Cook</td>\n",
              "      <td>Machka Restaurants Corp.</td>\n",
              "      <td>San Francisco</td>\n",
              "      <td>California</td>\n",
              "      <td>CA</td>\n",
              "      <td>...</td>\n",
              "      <td>-122.402963</td>\n",
              "      <td>Food and Beverages</td>\n",
              "      <td>NaN</td>\n",
              "      <td>13.00</td>\n",
              "      <td>NaN</td>\n",
              "      <td>NaN</td>\n",
              "      <td>Part-Time</td>\n",
              "      <td>NaN</td>\n",
              "      <td>2013-07-16 08:55:22 UTC</td>\n",
              "      <td>2014-08-16 15:35:28 UTC</td>\n",
              "    </tr>\n",
              "    <tr>\n",
              "      <th>84089</th>\n",
              "      <td>92</td>\n",
              "      <td>1</td>\n",
              "      <td>open</td>\n",
              "      <td>san-jose-ca-kazoo-restaurant-cashier</td>\n",
              "      <td>Cashier @ Kazoo Restaurant</td>\n",
              "      <td>Cashier</td>\n",
              "      <td>Kazoo Restaurant</td>\n",
              "      <td>San Jose</td>\n",
              "      <td>California</td>\n",
              "      <td>CA</td>\n",
              "      <td>...</td>\n",
              "      <td>-121.893302</td>\n",
              "      <td>Food and Beverages</td>\n",
              "      <td>NaN</td>\n",
              "      <td>10.00</td>\n",
              "      <td>NaN</td>\n",
              "      <td>NaN</td>\n",
              "      <td>Part-Time</td>\n",
              "      <td>NaN</td>\n",
              "      <td>2013-03-27 09:35:04 UTC</td>\n",
              "      <td>2014-08-16 15:35:30 UTC</td>\n",
              "    </tr>\n",
              "  </tbody>\n",
              "</table>\n",
              "<p>84090 rows × 22 columns</p>\n",
              "</div>\n",
              "      <button class=\"colab-df-convert\" onclick=\"convertToInteractive('df-17bc0294-dbf3-4ae0-b828-02c35b4101ad')\"\n",
              "              title=\"Convert this dataframe to an interactive table.\"\n",
              "              style=\"display:none;\">\n",
              "        \n",
              "  <svg xmlns=\"http://www.w3.org/2000/svg\" height=\"24px\"viewBox=\"0 0 24 24\"\n",
              "       width=\"24px\">\n",
              "    <path d=\"M0 0h24v24H0V0z\" fill=\"none\"/>\n",
              "    <path d=\"M18.56 5.44l.94 2.06.94-2.06 2.06-.94-2.06-.94-.94-2.06-.94 2.06-2.06.94zm-11 1L8.5 8.5l.94-2.06 2.06-.94-2.06-.94L8.5 2.5l-.94 2.06-2.06.94zm10 10l.94 2.06.94-2.06 2.06-.94-2.06-.94-.94-2.06-.94 2.06-2.06.94z\"/><path d=\"M17.41 7.96l-1.37-1.37c-.4-.4-.92-.59-1.43-.59-.52 0-1.04.2-1.43.59L10.3 9.45l-7.72 7.72c-.78.78-.78 2.05 0 2.83L4 21.41c.39.39.9.59 1.41.59.51 0 1.02-.2 1.41-.59l7.78-7.78 2.81-2.81c.8-.78.8-2.07 0-2.86zM5.41 20L4 18.59l7.72-7.72 1.47 1.35L5.41 20z\"/>\n",
              "  </svg>\n",
              "      </button>\n",
              "      \n",
              "  <style>\n",
              "    .colab-df-container {\n",
              "      display:flex;\n",
              "      flex-wrap:wrap;\n",
              "      gap: 12px;\n",
              "    }\n",
              "\n",
              "    .colab-df-convert {\n",
              "      background-color: #E8F0FE;\n",
              "      border: none;\n",
              "      border-radius: 50%;\n",
              "      cursor: pointer;\n",
              "      display: none;\n",
              "      fill: #1967D2;\n",
              "      height: 32px;\n",
              "      padding: 0 0 0 0;\n",
              "      width: 32px;\n",
              "    }\n",
              "\n",
              "    .colab-df-convert:hover {\n",
              "      background-color: #E2EBFA;\n",
              "      box-shadow: 0px 1px 2px rgba(60, 64, 67, 0.3), 0px 1px 3px 1px rgba(60, 64, 67, 0.15);\n",
              "      fill: #174EA6;\n",
              "    }\n",
              "\n",
              "    [theme=dark] .colab-df-convert {\n",
              "      background-color: #3B4455;\n",
              "      fill: #D2E3FC;\n",
              "    }\n",
              "\n",
              "    [theme=dark] .colab-df-convert:hover {\n",
              "      background-color: #434B5C;\n",
              "      box-shadow: 0px 1px 3px 1px rgba(0, 0, 0, 0.15);\n",
              "      filter: drop-shadow(0px 1px 2px rgba(0, 0, 0, 0.3));\n",
              "      fill: #FFFFFF;\n",
              "    }\n",
              "  </style>\n",
              "\n",
              "      <script>\n",
              "        const buttonEl =\n",
              "          document.querySelector('#df-17bc0294-dbf3-4ae0-b828-02c35b4101ad button.colab-df-convert');\n",
              "        buttonEl.style.display =\n",
              "          google.colab.kernel.accessAllowed ? 'block' : 'none';\n",
              "\n",
              "        async function convertToInteractive(key) {\n",
              "          const element = document.querySelector('#df-17bc0294-dbf3-4ae0-b828-02c35b4101ad');\n",
              "          const dataTable =\n",
              "            await google.colab.kernel.invokeFunction('convertToInteractive',\n",
              "                                                     [key], {});\n",
              "          if (!dataTable) return;\n",
              "\n",
              "          const docLinkHtml = 'Like what you see? Visit the ' +\n",
              "            '<a target=\"_blank\" href=https://colab.research.google.com/notebooks/data_table.ipynb>data table notebook</a>'\n",
              "            + ' to learn more about interactive tables.';\n",
              "          element.innerHTML = '';\n",
              "          dataTable['output_type'] = 'display_data';\n",
              "          await google.colab.output.renderOutput(dataTable, element);\n",
              "          const docLink = document.createElement('div');\n",
              "          docLink.innerHTML = docLinkHtml;\n",
              "          element.appendChild(docLink);\n",
              "        }\n",
              "      </script>\n",
              "    </div>\n",
              "  </div>\n",
              "  "
            ]
          },
          "metadata": {},
          "execution_count": 51
        }
      ],
      "source": [
        "# Secondly we check the dataset for what object is.\n",
        "jobs"
      ]
    },
    {
      "cell_type": "code",
      "execution_count": 52,
      "metadata": {
        "id": "R5nxRX5DWzkx",
        "colab": {
          "base_uri": "https://localhost:8080/",
          "height": 664
        },
        "outputId": "35d7d9c7-c5c4-4cbc-9bdf-0f860a390692"
      },
      "outputs": [
        {
          "output_type": "execute_result",
          "data": {
            "text/plain": [
              "   Job.ID  Provider Status                                               Slug  \\\n",
              "0     111         1   open                    palo-alto-ca-tacolicious-server   \n",
              "1     113         1   open    san-francisco-ca-claude-lane-kitchen-staff-chef   \n",
              "2     117         1   open  san-francisco-ca-machka-restaurants-corp-barte...   \n",
              "3     121         1   open                  brisbane-ca-teriyaki-house-server   \n",
              "4     127         1   open  los-angeles-ca-rosa-mexicano-sunset-kitchen-st...   \n",
              "\n",
              "                                         Title            Position  \\\n",
              "0                         Server @ Tacolicious              Server   \n",
              "1             Kitchen Staff/Chef @ Claude Lane  Kitchen Staff/Chef   \n",
              "2         Bartender @ Machka Restaurants Corp.           Bartender   \n",
              "3                      Server @ Teriyaki House              Server   \n",
              "4  Kitchen Staff/Chef @ Rosa Mexicano - Sunset  Kitchen Staff/Chef   \n",
              "\n",
              "                    Company           City  State.Name State.Code  ...  \\\n",
              "0               Tacolicious      Palo Alto  California         CA  ...   \n",
              "1               Claude Lane  San Francisco  California         CA  ...   \n",
              "2  Machka Restaurants Corp.  San Francisco  California         CA  ...   \n",
              "3            Teriyaki House       Brisbane  California         CA  ...   \n",
              "4    Rosa Mexicano - Sunset    Los Angeles  California         CA  ...   \n",
              "\n",
              "    Longitude            Industry  Requirements Salary  Listing.Start  \\\n",
              "0 -122.161170  Food and Beverages           NaN   8.00            NaN   \n",
              "1 -122.404268  Food and Beverages           NaN   0.00            NaN   \n",
              "2 -122.402963  Food and Beverages           NaN  11.00            NaN   \n",
              "3 -122.400275  Food and Beverages           NaN  10.55            NaN   \n",
              "4 -118.460439  Food and Beverages           NaN  10.55            NaN   \n",
              "\n",
              "   Listing.End Employment.Type Education.Required               Created.At  \\\n",
              "0          NaN       Part-Time                NaN  2013-03-12 02:08:28 UTC   \n",
              "1          NaN       Part-Time                NaN  2013-04-12 08:36:36 UTC   \n",
              "2          NaN       Part-Time                NaN  2013-07-16 09:34:10 UTC   \n",
              "3          NaN       Part-Time                NaN  2013-09-04 15:40:30 UTC   \n",
              "4          NaN       Part-Time                NaN  2013-07-17 15:26:18 UTC   \n",
              "\n",
              "                Updated.At  \n",
              "0  2014-08-16 15:35:36 UTC  \n",
              "1  2014-08-16 15:35:36 UTC  \n",
              "2  2014-08-16 15:35:37 UTC  \n",
              "3  2014-08-16 15:35:38 UTC  \n",
              "4  2014-08-16 15:35:40 UTC  \n",
              "\n",
              "[5 rows x 22 columns]"
            ],
            "text/html": [
              "\n",
              "  <div id=\"df-8b22ae7a-b7a3-4381-8571-3c86c7cec9cc\">\n",
              "    <div class=\"colab-df-container\">\n",
              "      <div>\n",
              "<style scoped>\n",
              "    .dataframe tbody tr th:only-of-type {\n",
              "        vertical-align: middle;\n",
              "    }\n",
              "\n",
              "    .dataframe tbody tr th {\n",
              "        vertical-align: top;\n",
              "    }\n",
              "\n",
              "    .dataframe thead th {\n",
              "        text-align: right;\n",
              "    }\n",
              "</style>\n",
              "<table border=\"1\" class=\"dataframe\">\n",
              "  <thead>\n",
              "    <tr style=\"text-align: right;\">\n",
              "      <th></th>\n",
              "      <th>Job.ID</th>\n",
              "      <th>Provider</th>\n",
              "      <th>Status</th>\n",
              "      <th>Slug</th>\n",
              "      <th>Title</th>\n",
              "      <th>Position</th>\n",
              "      <th>Company</th>\n",
              "      <th>City</th>\n",
              "      <th>State.Name</th>\n",
              "      <th>State.Code</th>\n",
              "      <th>...</th>\n",
              "      <th>Longitude</th>\n",
              "      <th>Industry</th>\n",
              "      <th>Requirements</th>\n",
              "      <th>Salary</th>\n",
              "      <th>Listing.Start</th>\n",
              "      <th>Listing.End</th>\n",
              "      <th>Employment.Type</th>\n",
              "      <th>Education.Required</th>\n",
              "      <th>Created.At</th>\n",
              "      <th>Updated.At</th>\n",
              "    </tr>\n",
              "  </thead>\n",
              "  <tbody>\n",
              "    <tr>\n",
              "      <th>0</th>\n",
              "      <td>111</td>\n",
              "      <td>1</td>\n",
              "      <td>open</td>\n",
              "      <td>palo-alto-ca-tacolicious-server</td>\n",
              "      <td>Server @ Tacolicious</td>\n",
              "      <td>Server</td>\n",
              "      <td>Tacolicious</td>\n",
              "      <td>Palo Alto</td>\n",
              "      <td>California</td>\n",
              "      <td>CA</td>\n",
              "      <td>...</td>\n",
              "      <td>-122.161170</td>\n",
              "      <td>Food and Beverages</td>\n",
              "      <td>NaN</td>\n",
              "      <td>8.00</td>\n",
              "      <td>NaN</td>\n",
              "      <td>NaN</td>\n",
              "      <td>Part-Time</td>\n",
              "      <td>NaN</td>\n",
              "      <td>2013-03-12 02:08:28 UTC</td>\n",
              "      <td>2014-08-16 15:35:36 UTC</td>\n",
              "    </tr>\n",
              "    <tr>\n",
              "      <th>1</th>\n",
              "      <td>113</td>\n",
              "      <td>1</td>\n",
              "      <td>open</td>\n",
              "      <td>san-francisco-ca-claude-lane-kitchen-staff-chef</td>\n",
              "      <td>Kitchen Staff/Chef @ Claude Lane</td>\n",
              "      <td>Kitchen Staff/Chef</td>\n",
              "      <td>Claude Lane</td>\n",
              "      <td>San Francisco</td>\n",
              "      <td>California</td>\n",
              "      <td>CA</td>\n",
              "      <td>...</td>\n",
              "      <td>-122.404268</td>\n",
              "      <td>Food and Beverages</td>\n",
              "      <td>NaN</td>\n",
              "      <td>0.00</td>\n",
              "      <td>NaN</td>\n",
              "      <td>NaN</td>\n",
              "      <td>Part-Time</td>\n",
              "      <td>NaN</td>\n",
              "      <td>2013-04-12 08:36:36 UTC</td>\n",
              "      <td>2014-08-16 15:35:36 UTC</td>\n",
              "    </tr>\n",
              "    <tr>\n",
              "      <th>2</th>\n",
              "      <td>117</td>\n",
              "      <td>1</td>\n",
              "      <td>open</td>\n",
              "      <td>san-francisco-ca-machka-restaurants-corp-barte...</td>\n",
              "      <td>Bartender @ Machka Restaurants Corp.</td>\n",
              "      <td>Bartender</td>\n",
              "      <td>Machka Restaurants Corp.</td>\n",
              "      <td>San Francisco</td>\n",
              "      <td>California</td>\n",
              "      <td>CA</td>\n",
              "      <td>...</td>\n",
              "      <td>-122.402963</td>\n",
              "      <td>Food and Beverages</td>\n",
              "      <td>NaN</td>\n",
              "      <td>11.00</td>\n",
              "      <td>NaN</td>\n",
              "      <td>NaN</td>\n",
              "      <td>Part-Time</td>\n",
              "      <td>NaN</td>\n",
              "      <td>2013-07-16 09:34:10 UTC</td>\n",
              "      <td>2014-08-16 15:35:37 UTC</td>\n",
              "    </tr>\n",
              "    <tr>\n",
              "      <th>3</th>\n",
              "      <td>121</td>\n",
              "      <td>1</td>\n",
              "      <td>open</td>\n",
              "      <td>brisbane-ca-teriyaki-house-server</td>\n",
              "      <td>Server @ Teriyaki House</td>\n",
              "      <td>Server</td>\n",
              "      <td>Teriyaki House</td>\n",
              "      <td>Brisbane</td>\n",
              "      <td>California</td>\n",
              "      <td>CA</td>\n",
              "      <td>...</td>\n",
              "      <td>-122.400275</td>\n",
              "      <td>Food and Beverages</td>\n",
              "      <td>NaN</td>\n",
              "      <td>10.55</td>\n",
              "      <td>NaN</td>\n",
              "      <td>NaN</td>\n",
              "      <td>Part-Time</td>\n",
              "      <td>NaN</td>\n",
              "      <td>2013-09-04 15:40:30 UTC</td>\n",
              "      <td>2014-08-16 15:35:38 UTC</td>\n",
              "    </tr>\n",
              "    <tr>\n",
              "      <th>4</th>\n",
              "      <td>127</td>\n",
              "      <td>1</td>\n",
              "      <td>open</td>\n",
              "      <td>los-angeles-ca-rosa-mexicano-sunset-kitchen-st...</td>\n",
              "      <td>Kitchen Staff/Chef @ Rosa Mexicano - Sunset</td>\n",
              "      <td>Kitchen Staff/Chef</td>\n",
              "      <td>Rosa Mexicano - Sunset</td>\n",
              "      <td>Los Angeles</td>\n",
              "      <td>California</td>\n",
              "      <td>CA</td>\n",
              "      <td>...</td>\n",
              "      <td>-118.460439</td>\n",
              "      <td>Food and Beverages</td>\n",
              "      <td>NaN</td>\n",
              "      <td>10.55</td>\n",
              "      <td>NaN</td>\n",
              "      <td>NaN</td>\n",
              "      <td>Part-Time</td>\n",
              "      <td>NaN</td>\n",
              "      <td>2013-07-17 15:26:18 UTC</td>\n",
              "      <td>2014-08-16 15:35:40 UTC</td>\n",
              "    </tr>\n",
              "  </tbody>\n",
              "</table>\n",
              "<p>5 rows × 22 columns</p>\n",
              "</div>\n",
              "      <button class=\"colab-df-convert\" onclick=\"convertToInteractive('df-8b22ae7a-b7a3-4381-8571-3c86c7cec9cc')\"\n",
              "              title=\"Convert this dataframe to an interactive table.\"\n",
              "              style=\"display:none;\">\n",
              "        \n",
              "  <svg xmlns=\"http://www.w3.org/2000/svg\" height=\"24px\"viewBox=\"0 0 24 24\"\n",
              "       width=\"24px\">\n",
              "    <path d=\"M0 0h24v24H0V0z\" fill=\"none\"/>\n",
              "    <path d=\"M18.56 5.44l.94 2.06.94-2.06 2.06-.94-2.06-.94-.94-2.06-.94 2.06-2.06.94zm-11 1L8.5 8.5l.94-2.06 2.06-.94-2.06-.94L8.5 2.5l-.94 2.06-2.06.94zm10 10l.94 2.06.94-2.06 2.06-.94-2.06-.94-.94-2.06-.94 2.06-2.06.94z\"/><path d=\"M17.41 7.96l-1.37-1.37c-.4-.4-.92-.59-1.43-.59-.52 0-1.04.2-1.43.59L10.3 9.45l-7.72 7.72c-.78.78-.78 2.05 0 2.83L4 21.41c.39.39.9.59 1.41.59.51 0 1.02-.2 1.41-.59l7.78-7.78 2.81-2.81c.8-.78.8-2.07 0-2.86zM5.41 20L4 18.59l7.72-7.72 1.47 1.35L5.41 20z\"/>\n",
              "  </svg>\n",
              "      </button>\n",
              "      \n",
              "  <style>\n",
              "    .colab-df-container {\n",
              "      display:flex;\n",
              "      flex-wrap:wrap;\n",
              "      gap: 12px;\n",
              "    }\n",
              "\n",
              "    .colab-df-convert {\n",
              "      background-color: #E8F0FE;\n",
              "      border: none;\n",
              "      border-radius: 50%;\n",
              "      cursor: pointer;\n",
              "      display: none;\n",
              "      fill: #1967D2;\n",
              "      height: 32px;\n",
              "      padding: 0 0 0 0;\n",
              "      width: 32px;\n",
              "    }\n",
              "\n",
              "    .colab-df-convert:hover {\n",
              "      background-color: #E2EBFA;\n",
              "      box-shadow: 0px 1px 2px rgba(60, 64, 67, 0.3), 0px 1px 3px 1px rgba(60, 64, 67, 0.15);\n",
              "      fill: #174EA6;\n",
              "    }\n",
              "\n",
              "    [theme=dark] .colab-df-convert {\n",
              "      background-color: #3B4455;\n",
              "      fill: #D2E3FC;\n",
              "    }\n",
              "\n",
              "    [theme=dark] .colab-df-convert:hover {\n",
              "      background-color: #434B5C;\n",
              "      box-shadow: 0px 1px 3px 1px rgba(0, 0, 0, 0.15);\n",
              "      filter: drop-shadow(0px 1px 2px rgba(0, 0, 0, 0.3));\n",
              "      fill: #FFFFFF;\n",
              "    }\n",
              "  </style>\n",
              "\n",
              "      <script>\n",
              "        const buttonEl =\n",
              "          document.querySelector('#df-8b22ae7a-b7a3-4381-8571-3c86c7cec9cc button.colab-df-convert');\n",
              "        buttonEl.style.display =\n",
              "          google.colab.kernel.accessAllowed ? 'block' : 'none';\n",
              "\n",
              "        async function convertToInteractive(key) {\n",
              "          const element = document.querySelector('#df-8b22ae7a-b7a3-4381-8571-3c86c7cec9cc');\n",
              "          const dataTable =\n",
              "            await google.colab.kernel.invokeFunction('convertToInteractive',\n",
              "                                                     [key], {});\n",
              "          if (!dataTable) return;\n",
              "\n",
              "          const docLinkHtml = 'Like what you see? Visit the ' +\n",
              "            '<a target=\"_blank\" href=https://colab.research.google.com/notebooks/data_table.ipynb>data table notebook</a>'\n",
              "            + ' to learn more about interactive tables.';\n",
              "          element.innerHTML = '';\n",
              "          dataTable['output_type'] = 'display_data';\n",
              "          await google.colab.output.renderOutput(dataTable, element);\n",
              "          const docLink = document.createElement('div');\n",
              "          docLink.innerHTML = docLinkHtml;\n",
              "          element.appendChild(docLink);\n",
              "        }\n",
              "      </script>\n",
              "    </div>\n",
              "  </div>\n",
              "  "
            ]
          },
          "metadata": {},
          "execution_count": 52
        }
      ],
      "source": [
        "# Checking how the data looks: From the data, we see that there are several columns with NaN values, such as; Requirements, Listing.Start, Listing.End. \n",
        "\n",
        "jobs.head()"
      ]
    },
    {
      "cell_type": "code",
      "execution_count": 53,
      "metadata": {
        "colab": {
          "base_uri": "https://localhost:8080/"
        },
        "id": "xM5HjV3xZ7eT",
        "outputId": "5625bff2-88ca-4832-bcb6-82b0af244fa3"
      },
      "outputs": [
        {
          "output_type": "execute_result",
          "data": {
            "text/plain": [
              "Job.ID                    0\n",
              "Longitude                 0\n",
              "Latitude                  0\n",
              "Created.At                0\n",
              "Position                  0\n",
              "Updated.At                0\n",
              "Slug                      0\n",
              "Status                    0\n",
              "Provider                  0\n",
              "Title                     0\n",
              "Employment.Type          10\n",
              "City                    135\n",
              "Listing.End             167\n",
              "State.Name              171\n",
              "State.Code              171\n",
              "Education.Required      267\n",
              "Listing.Start           683\n",
              "Company                2271\n",
              "Industry              83823\n",
              "Salary                83861\n",
              "Address               84054\n",
              "Requirements          84090\n",
              "dtype: int64"
            ]
          },
          "metadata": {},
          "execution_count": 53
        }
      ],
      "source": [
        "# We will look through the data to see to what extend we have missing values next.\n",
        "# We use sum() and sort_values to get a descending list.\n",
        "jobs.isna().sum().sort_values()"
      ]
    },
    {
      "cell_type": "code",
      "execution_count": 54,
      "metadata": {
        "id": "Julge9vTakTg"
      },
      "outputs": [],
      "source": [
        "# Looking here, we can see 4 columns that are irellevant, as they are mostly empty. These are: Salary, Industry, Requirements and Address\n",
        "# We therefore elect to drop them from the dataset. \n",
        "jobs = jobs.drop(['Industry', 'Salary', 'Address', 'Requirements'], axis=1)"
      ]
    },
    {
      "cell_type": "code",
      "execution_count": 55,
      "metadata": {
        "colab": {
          "base_uri": "https://localhost:8080/"
        },
        "id": "-jeEoByGb04E",
        "outputId": "c25a73a7-f443-4ed4-84ee-bc9d961a29e8"
      },
      "outputs": [
        {
          "output_type": "stream",
          "name": "stdout",
          "text": [
            "<class 'pandas.core.frame.DataFrame'>\n",
            "RangeIndex: 84090 entries, 0 to 84089\n",
            "Data columns (total 18 columns):\n",
            " #   Column              Non-Null Count  Dtype  \n",
            "---  ------              --------------  -----  \n",
            " 0   Job.ID              84090 non-null  int64  \n",
            " 1   Provider            84090 non-null  int64  \n",
            " 2   Status              84090 non-null  object \n",
            " 3   Slug                84090 non-null  object \n",
            " 4   Title               84090 non-null  object \n",
            " 5   Position            84090 non-null  object \n",
            " 6   Company             81819 non-null  object \n",
            " 7   City                83955 non-null  object \n",
            " 8   State.Name          83919 non-null  object \n",
            " 9   State.Code          83919 non-null  object \n",
            " 10  Latitude            84090 non-null  float64\n",
            " 11  Longitude           84090 non-null  float64\n",
            " 12  Listing.Start       83407 non-null  object \n",
            " 13  Listing.End         83923 non-null  object \n",
            " 14  Employment.Type     84080 non-null  object \n",
            " 15  Education.Required  83823 non-null  object \n",
            " 16  Created.At          84090 non-null  object \n",
            " 17  Updated.At          84090 non-null  object \n",
            "dtypes: float64(2), int64(2), object(14)\n",
            "memory usage: 11.5+ MB\n"
          ]
        }
      ],
      "source": [
        "# We check that we successfully dropped the columns.\n",
        "jobs.info()"
      ]
    },
    {
      "cell_type": "code",
      "execution_count": 56,
      "metadata": {
        "colab": {
          "base_uri": "https://localhost:8080/"
        },
        "id": "HJcOEDb1dSmU",
        "outputId": "b19a4a5d-5584-4486-9e8f-3cde17a3df62"
      },
      "outputs": [
        {
          "output_type": "execute_result",
          "data": {
            "text/plain": [
              "Job.ID                   0\n",
              "Longitude                0\n",
              "Latitude                 0\n",
              "Created.At               0\n",
              "Position                 0\n",
              "Updated.At               0\n",
              "Slug                     0\n",
              "Status                   0\n",
              "Provider                 0\n",
              "Title                    0\n",
              "Employment.Type         10\n",
              "City                   135\n",
              "Listing.End            167\n",
              "State.Code             171\n",
              "State.Name             171\n",
              "Education.Required     267\n",
              "Listing.Start          683\n",
              "Company               2271\n",
              "dtype: int64"
            ]
          },
          "metadata": {},
          "execution_count": 56
        }
      ],
      "source": [
        "# As we see, there are still values which are NaN, as they don't constitute a large part of the dataset, we elect to remove those as well.\n",
        "jobs.isna().sum().sort_values()"
      ]
    },
    {
      "cell_type": "code",
      "execution_count": 57,
      "metadata": {
        "id": "_oFkJEVKcJH4"
      },
      "outputs": [],
      "source": [
        "\n",
        "jobs = jobs.dropna()"
      ]
    },
    {
      "cell_type": "code",
      "execution_count": 58,
      "metadata": {
        "colab": {
          "base_uri": "https://localhost:8080/"
        },
        "id": "MfbBpTnsc_wa",
        "outputId": "dd4eccba-fc76-4c08-da8d-b7a36195c10e"
      },
      "outputs": [
        {
          "output_type": "execute_result",
          "data": {
            "text/plain": [
              "(80865, 18)"
            ]
          },
          "metadata": {},
          "execution_count": 58
        }
      ],
      "source": [
        "# Our total dataset row-size ends up being 80865, which is acceptable, as it is not even a 10% loss of data. \n",
        "jobs.shape"
      ]
    },
    {
      "cell_type": "markdown",
      "metadata": {
        "id": "rAmVfmAieDuZ"
      },
      "source": [
        "### Looking through all the variables"
      ]
    },
    {
      "cell_type": "code",
      "execution_count": 59,
      "metadata": {
        "colab": {
          "base_uri": "https://localhost:8080/"
        },
        "id": "N793edqndog3",
        "outputId": "1324abfb-1aef-494d-eded-d015d03e056f"
      },
      "outputs": [
        {
          "output_type": "stream",
          "name": "stdout",
          "text": [
            "<class 'pandas.core.frame.DataFrame'>\n",
            "Int64Index: 80865 entries, 8 to 83980\n",
            "Data columns (total 18 columns):\n",
            " #   Column              Non-Null Count  Dtype  \n",
            "---  ------              --------------  -----  \n",
            " 0   Job.ID              80865 non-null  int64  \n",
            " 1   Provider            80865 non-null  int64  \n",
            " 2   Status              80865 non-null  object \n",
            " 3   Slug                80865 non-null  object \n",
            " 4   Title               80865 non-null  object \n",
            " 5   Position            80865 non-null  object \n",
            " 6   Company             80865 non-null  object \n",
            " 7   City                80865 non-null  object \n",
            " 8   State.Name          80865 non-null  object \n",
            " 9   State.Code          80865 non-null  object \n",
            " 10  Latitude            80865 non-null  float64\n",
            " 11  Longitude           80865 non-null  float64\n",
            " 12  Listing.Start       80865 non-null  object \n",
            " 13  Listing.End         80865 non-null  object \n",
            " 14  Employment.Type     80865 non-null  object \n",
            " 15  Education.Required  80865 non-null  object \n",
            " 16  Created.At          80865 non-null  object \n",
            " 17  Updated.At          80865 non-null  object \n",
            "dtypes: float64(2), int64(2), object(14)\n",
            "memory usage: 11.7+ MB\n"
          ]
        }
      ],
      "source": [
        "# We check the data-types of each variable.\n",
        "jobs.info()"
      ]
    },
    {
      "cell_type": "code",
      "execution_count": 60,
      "metadata": {
        "id": "xQePzjw1eLOz"
      },
      "outputs": [],
      "source": [
        "# Change We change the columns which correspond to date, from object to timebased. \n",
        "\n",
        "jobs['Listing.Start'] = pd.to_datetime(jobs['Listing.Start'])\n",
        "jobs['Listing.End'] = pd.to_datetime(jobs['Listing.End'])"
      ]
    },
    {
      "cell_type": "code",
      "execution_count": 61,
      "metadata": {
        "id": "VKaa-bzYgSW_"
      },
      "outputs": [],
      "source": [
        "# We do the same for the Created and Updated columns\n",
        "jobs['Created.At'] = pd.to_datetime(jobs['Created.At'])\n",
        "jobs['Updated.At'] = pd.to_datetime(jobs['Updated.At'])"
      ]
    },
    {
      "cell_type": "code",
      "execution_count": 62,
      "metadata": {
        "colab": {
          "base_uri": "https://localhost:8080/"
        },
        "id": "Ypf61217gYZa",
        "outputId": "bb2c15ff-90fe-4b7b-804f-69320000bc9f"
      },
      "outputs": [
        {
          "output_type": "stream",
          "name": "stdout",
          "text": [
            "<class 'pandas.core.frame.DataFrame'>\n",
            "Int64Index: 80865 entries, 8 to 83980\n",
            "Data columns (total 18 columns):\n",
            " #   Column              Non-Null Count  Dtype              \n",
            "---  ------              --------------  -----              \n",
            " 0   Job.ID              80865 non-null  int64              \n",
            " 1   Provider            80865 non-null  int64              \n",
            " 2   Status              80865 non-null  object             \n",
            " 3   Slug                80865 non-null  object             \n",
            " 4   Title               80865 non-null  object             \n",
            " 5   Position            80865 non-null  object             \n",
            " 6   Company             80865 non-null  object             \n",
            " 7   City                80865 non-null  object             \n",
            " 8   State.Name          80865 non-null  object             \n",
            " 9   State.Code          80865 non-null  object             \n",
            " 10  Latitude            80865 non-null  float64            \n",
            " 11  Longitude           80865 non-null  float64            \n",
            " 12  Listing.Start       80865 non-null  datetime64[ns]     \n",
            " 13  Listing.End         80865 non-null  datetime64[ns]     \n",
            " 14  Employment.Type     80865 non-null  object             \n",
            " 15  Education.Required  80865 non-null  object             \n",
            " 16  Created.At          80865 non-null  datetime64[ns, UTC]\n",
            " 17  Updated.At          80865 non-null  datetime64[ns, UTC]\n",
            "dtypes: datetime64[ns, UTC](2), datetime64[ns](2), float64(2), int64(2), object(10)\n",
            "memory usage: 11.7+ MB\n"
          ]
        }
      ],
      "source": [
        "# We check to make sure that the formats have been changed correctly, and see that Listing columns are correctly formatted. \n",
        "# This is also the case for Created columns, and the time of day has been correctly taken into account\n",
        "jobs.info()"
      ]
    },
    {
      "cell_type": "code",
      "execution_count": 63,
      "metadata": {
        "colab": {
          "base_uri": "https://localhost:8080/",
          "height": 988
        },
        "id": "-rSeDBgkhOBg",
        "outputId": "6a9b6339-b07a-4ebe-b21b-0b5b5317b0a2"
      },
      "outputs": [
        {
          "output_type": "execute_result",
          "data": {
            "text/plain": [
              "       Applicant.ID  Job.ID  \\\n",
              "0             10000   73666   \n",
              "1             10000   96655   \n",
              "2             10001   84141   \n",
              "3             10002   77989   \n",
              "4             10002   69568   \n",
              "...             ...     ...   \n",
              "12365          9997     166   \n",
              "12366          9997     531   \n",
              "12367          9997      33   \n",
              "12368          9997     517   \n",
              "12369          9997     517   \n",
              "\n",
              "                                                   Title  \\\n",
              "0                  Cashiers & Valets Needed! @ WallyPark   \n",
              "1      Macy's Seasonal Retail Fragrance Cashier  - Ga...   \n",
              "2      Part Time Showroom Sales / Cashier @ Grizzly I...   \n",
              "3      Event Specialist Part Time @ Advantage Sales &...   \n",
              "4              Bonefish - Kitchen Staff @ Bonefish Grill   \n",
              "...                                                  ...   \n",
              "12365                                Server @ A La Turca   \n",
              "12366                     Server @ Oola Restaurant & Bar   \n",
              "12367                                     Server @ Haven   \n",
              "12368                               Server @ SAM's Diner   \n",
              "12369                               Server @ SAM's Diner   \n",
              "\n",
              "                           Company           City      State.Name State.Code  \\\n",
              "0                        WallyPark         Newark      New Jersey         NJ   \n",
              "1                           Macy's    Garden City        New York         NY   \n",
              "2          Grizzly Industrial Inc.     Bellingham      Washington         WA   \n",
              "3      Advantage Sales & Marketing   Simpsonville  South Carolina         SC   \n",
              "4                   Bonefish Grill     Greenville  South Carolina         SC   \n",
              "...                            ...            ...             ...        ...   \n",
              "12365                   A La Turca  San Francisco      California         CA   \n",
              "12366        Oola Restaurant & Bar  San Francisco      California         CA   \n",
              "12367                        Haven        Oakland      California         CA   \n",
              "12368                  SAM's Diner  San Francisco      California         CA   \n",
              "12369                  SAM's Diner  San Francisco      California         CA   \n",
              "\n",
              "                 Industry               View.Start                 View.End  \\\n",
              "0                     NaN  2014-12-12 20:12:35 UTC  2014-12-12 20:31:24 UTC   \n",
              "1                     NaN  2014-12-12 20:08:50 UTC  2014-12-12 20:10:15 UTC   \n",
              "2                     NaN  2014-12-12 20:12:32 UTC  2014-12-12 20:17:18 UTC   \n",
              "3                     NaN  2014-12-12 20:39:23 UTC  2014-12-12 20:42:13 UTC   \n",
              "4                     NaN  2014-12-12 20:43:25 UTC  2014-12-12 20:43:58 UTC   \n",
              "...                   ...                      ...                      ...   \n",
              "12365  Food and Beverages  2014-12-12 21:00:10 UTC  2014-12-12 21:00:25 UTC   \n",
              "12366  Food and Beverages  2014-12-12 21:00:47 UTC  2014-12-12 21:00:58 UTC   \n",
              "12367  Food and Beverages  2014-12-12 21:01:20 UTC  2014-12-12 21:01:26 UTC   \n",
              "12368  Food and Beverages  2014-12-12 21:02:07 UTC  2014-12-12 21:02:17 UTC   \n",
              "12369  Food and Beverages  2014-12-12 21:02:29 UTC  2014-12-12 21:39:02 UTC   \n",
              "\n",
              "       View.Duration               Created.At               Updated.At  \n",
              "0             1129.0  2014-12-12 20:12:35 UTC  2014-12-12 20:12:35 UTC  \n",
              "1               84.0  2014-12-12 20:08:50 UTC  2014-12-12 20:08:50 UTC  \n",
              "2              286.0  2014-12-12 20:12:32 UTC  2014-12-12 20:12:32 UTC  \n",
              "3              170.0  2014-12-12 20:39:23 UTC  2014-12-12 20:39:23 UTC  \n",
              "4               33.0  2014-12-12 20:43:25 UTC  2014-12-12 20:43:25 UTC  \n",
              "...              ...                      ...                      ...  \n",
              "12365           14.0  2014-12-12 21:00:10 UTC  2014-12-12 21:00:10 UTC  \n",
              "12366           10.0  2014-12-12 21:00:47 UTC  2014-12-12 21:00:47 UTC  \n",
              "12367            5.0  2014-12-12 21:01:20 UTC  2014-12-12 21:01:20 UTC  \n",
              "12368           10.0  2014-12-12 21:02:07 UTC  2014-12-12 21:02:07 UTC  \n",
              "12369         2192.0  2014-12-12 21:02:29 UTC  2014-12-12 21:02:29 UTC  \n",
              "\n",
              "[12370 rows x 13 columns]"
            ],
            "text/html": [
              "\n",
              "  <div id=\"df-af05fd75-a02e-4fe0-9262-2cf7aaedd7e8\">\n",
              "    <div class=\"colab-df-container\">\n",
              "      <div>\n",
              "<style scoped>\n",
              "    .dataframe tbody tr th:only-of-type {\n",
              "        vertical-align: middle;\n",
              "    }\n",
              "\n",
              "    .dataframe tbody tr th {\n",
              "        vertical-align: top;\n",
              "    }\n",
              "\n",
              "    .dataframe thead th {\n",
              "        text-align: right;\n",
              "    }\n",
              "</style>\n",
              "<table border=\"1\" class=\"dataframe\">\n",
              "  <thead>\n",
              "    <tr style=\"text-align: right;\">\n",
              "      <th></th>\n",
              "      <th>Applicant.ID</th>\n",
              "      <th>Job.ID</th>\n",
              "      <th>Title</th>\n",
              "      <th>Company</th>\n",
              "      <th>City</th>\n",
              "      <th>State.Name</th>\n",
              "      <th>State.Code</th>\n",
              "      <th>Industry</th>\n",
              "      <th>View.Start</th>\n",
              "      <th>View.End</th>\n",
              "      <th>View.Duration</th>\n",
              "      <th>Created.At</th>\n",
              "      <th>Updated.At</th>\n",
              "    </tr>\n",
              "  </thead>\n",
              "  <tbody>\n",
              "    <tr>\n",
              "      <th>0</th>\n",
              "      <td>10000</td>\n",
              "      <td>73666</td>\n",
              "      <td>Cashiers &amp; Valets Needed! @ WallyPark</td>\n",
              "      <td>WallyPark</td>\n",
              "      <td>Newark</td>\n",
              "      <td>New Jersey</td>\n",
              "      <td>NJ</td>\n",
              "      <td>NaN</td>\n",
              "      <td>2014-12-12 20:12:35 UTC</td>\n",
              "      <td>2014-12-12 20:31:24 UTC</td>\n",
              "      <td>1129.0</td>\n",
              "      <td>2014-12-12 20:12:35 UTC</td>\n",
              "      <td>2014-12-12 20:12:35 UTC</td>\n",
              "    </tr>\n",
              "    <tr>\n",
              "      <th>1</th>\n",
              "      <td>10000</td>\n",
              "      <td>96655</td>\n",
              "      <td>Macy's Seasonal Retail Fragrance Cashier  - Ga...</td>\n",
              "      <td>Macy's</td>\n",
              "      <td>Garden City</td>\n",
              "      <td>New York</td>\n",
              "      <td>NY</td>\n",
              "      <td>NaN</td>\n",
              "      <td>2014-12-12 20:08:50 UTC</td>\n",
              "      <td>2014-12-12 20:10:15 UTC</td>\n",
              "      <td>84.0</td>\n",
              "      <td>2014-12-12 20:08:50 UTC</td>\n",
              "      <td>2014-12-12 20:08:50 UTC</td>\n",
              "    </tr>\n",
              "    <tr>\n",
              "      <th>2</th>\n",
              "      <td>10001</td>\n",
              "      <td>84141</td>\n",
              "      <td>Part Time Showroom Sales / Cashier @ Grizzly I...</td>\n",
              "      <td>Grizzly Industrial Inc.</td>\n",
              "      <td>Bellingham</td>\n",
              "      <td>Washington</td>\n",
              "      <td>WA</td>\n",
              "      <td>NaN</td>\n",
              "      <td>2014-12-12 20:12:32 UTC</td>\n",
              "      <td>2014-12-12 20:17:18 UTC</td>\n",
              "      <td>286.0</td>\n",
              "      <td>2014-12-12 20:12:32 UTC</td>\n",
              "      <td>2014-12-12 20:12:32 UTC</td>\n",
              "    </tr>\n",
              "    <tr>\n",
              "      <th>3</th>\n",
              "      <td>10002</td>\n",
              "      <td>77989</td>\n",
              "      <td>Event Specialist Part Time @ Advantage Sales &amp;...</td>\n",
              "      <td>Advantage Sales &amp; Marketing</td>\n",
              "      <td>Simpsonville</td>\n",
              "      <td>South Carolina</td>\n",
              "      <td>SC</td>\n",
              "      <td>NaN</td>\n",
              "      <td>2014-12-12 20:39:23 UTC</td>\n",
              "      <td>2014-12-12 20:42:13 UTC</td>\n",
              "      <td>170.0</td>\n",
              "      <td>2014-12-12 20:39:23 UTC</td>\n",
              "      <td>2014-12-12 20:39:23 UTC</td>\n",
              "    </tr>\n",
              "    <tr>\n",
              "      <th>4</th>\n",
              "      <td>10002</td>\n",
              "      <td>69568</td>\n",
              "      <td>Bonefish - Kitchen Staff @ Bonefish Grill</td>\n",
              "      <td>Bonefish Grill</td>\n",
              "      <td>Greenville</td>\n",
              "      <td>South Carolina</td>\n",
              "      <td>SC</td>\n",
              "      <td>NaN</td>\n",
              "      <td>2014-12-12 20:43:25 UTC</td>\n",
              "      <td>2014-12-12 20:43:58 UTC</td>\n",
              "      <td>33.0</td>\n",
              "      <td>2014-12-12 20:43:25 UTC</td>\n",
              "      <td>2014-12-12 20:43:25 UTC</td>\n",
              "    </tr>\n",
              "    <tr>\n",
              "      <th>...</th>\n",
              "      <td>...</td>\n",
              "      <td>...</td>\n",
              "      <td>...</td>\n",
              "      <td>...</td>\n",
              "      <td>...</td>\n",
              "      <td>...</td>\n",
              "      <td>...</td>\n",
              "      <td>...</td>\n",
              "      <td>...</td>\n",
              "      <td>...</td>\n",
              "      <td>...</td>\n",
              "      <td>...</td>\n",
              "      <td>...</td>\n",
              "    </tr>\n",
              "    <tr>\n",
              "      <th>12365</th>\n",
              "      <td>9997</td>\n",
              "      <td>166</td>\n",
              "      <td>Server @ A La Turca</td>\n",
              "      <td>A La Turca</td>\n",
              "      <td>San Francisco</td>\n",
              "      <td>California</td>\n",
              "      <td>CA</td>\n",
              "      <td>Food and Beverages</td>\n",
              "      <td>2014-12-12 21:00:10 UTC</td>\n",
              "      <td>2014-12-12 21:00:25 UTC</td>\n",
              "      <td>14.0</td>\n",
              "      <td>2014-12-12 21:00:10 UTC</td>\n",
              "      <td>2014-12-12 21:00:10 UTC</td>\n",
              "    </tr>\n",
              "    <tr>\n",
              "      <th>12366</th>\n",
              "      <td>9997</td>\n",
              "      <td>531</td>\n",
              "      <td>Server @ Oola Restaurant &amp; Bar</td>\n",
              "      <td>Oola Restaurant &amp; Bar</td>\n",
              "      <td>San Francisco</td>\n",
              "      <td>California</td>\n",
              "      <td>CA</td>\n",
              "      <td>Food and Beverages</td>\n",
              "      <td>2014-12-12 21:00:47 UTC</td>\n",
              "      <td>2014-12-12 21:00:58 UTC</td>\n",
              "      <td>10.0</td>\n",
              "      <td>2014-12-12 21:00:47 UTC</td>\n",
              "      <td>2014-12-12 21:00:47 UTC</td>\n",
              "    </tr>\n",
              "    <tr>\n",
              "      <th>12367</th>\n",
              "      <td>9997</td>\n",
              "      <td>33</td>\n",
              "      <td>Server @ Haven</td>\n",
              "      <td>Haven</td>\n",
              "      <td>Oakland</td>\n",
              "      <td>California</td>\n",
              "      <td>CA</td>\n",
              "      <td>Food and Beverages</td>\n",
              "      <td>2014-12-12 21:01:20 UTC</td>\n",
              "      <td>2014-12-12 21:01:26 UTC</td>\n",
              "      <td>5.0</td>\n",
              "      <td>2014-12-12 21:01:20 UTC</td>\n",
              "      <td>2014-12-12 21:01:20 UTC</td>\n",
              "    </tr>\n",
              "    <tr>\n",
              "      <th>12368</th>\n",
              "      <td>9997</td>\n",
              "      <td>517</td>\n",
              "      <td>Server @ SAM's Diner</td>\n",
              "      <td>SAM's Diner</td>\n",
              "      <td>San Francisco</td>\n",
              "      <td>California</td>\n",
              "      <td>CA</td>\n",
              "      <td>Food and Beverages</td>\n",
              "      <td>2014-12-12 21:02:07 UTC</td>\n",
              "      <td>2014-12-12 21:02:17 UTC</td>\n",
              "      <td>10.0</td>\n",
              "      <td>2014-12-12 21:02:07 UTC</td>\n",
              "      <td>2014-12-12 21:02:07 UTC</td>\n",
              "    </tr>\n",
              "    <tr>\n",
              "      <th>12369</th>\n",
              "      <td>9997</td>\n",
              "      <td>517</td>\n",
              "      <td>Server @ SAM's Diner</td>\n",
              "      <td>SAM's Diner</td>\n",
              "      <td>San Francisco</td>\n",
              "      <td>California</td>\n",
              "      <td>CA</td>\n",
              "      <td>Food and Beverages</td>\n",
              "      <td>2014-12-12 21:02:29 UTC</td>\n",
              "      <td>2014-12-12 21:39:02 UTC</td>\n",
              "      <td>2192.0</td>\n",
              "      <td>2014-12-12 21:02:29 UTC</td>\n",
              "      <td>2014-12-12 21:02:29 UTC</td>\n",
              "    </tr>\n",
              "  </tbody>\n",
              "</table>\n",
              "<p>12370 rows × 13 columns</p>\n",
              "</div>\n",
              "      <button class=\"colab-df-convert\" onclick=\"convertToInteractive('df-af05fd75-a02e-4fe0-9262-2cf7aaedd7e8')\"\n",
              "              title=\"Convert this dataframe to an interactive table.\"\n",
              "              style=\"display:none;\">\n",
              "        \n",
              "  <svg xmlns=\"http://www.w3.org/2000/svg\" height=\"24px\"viewBox=\"0 0 24 24\"\n",
              "       width=\"24px\">\n",
              "    <path d=\"M0 0h24v24H0V0z\" fill=\"none\"/>\n",
              "    <path d=\"M18.56 5.44l.94 2.06.94-2.06 2.06-.94-2.06-.94-.94-2.06-.94 2.06-2.06.94zm-11 1L8.5 8.5l.94-2.06 2.06-.94-2.06-.94L8.5 2.5l-.94 2.06-2.06.94zm10 10l.94 2.06.94-2.06 2.06-.94-2.06-.94-.94-2.06-.94 2.06-2.06.94z\"/><path d=\"M17.41 7.96l-1.37-1.37c-.4-.4-.92-.59-1.43-.59-.52 0-1.04.2-1.43.59L10.3 9.45l-7.72 7.72c-.78.78-.78 2.05 0 2.83L4 21.41c.39.39.9.59 1.41.59.51 0 1.02-.2 1.41-.59l7.78-7.78 2.81-2.81c.8-.78.8-2.07 0-2.86zM5.41 20L4 18.59l7.72-7.72 1.47 1.35L5.41 20z\"/>\n",
              "  </svg>\n",
              "      </button>\n",
              "      \n",
              "  <style>\n",
              "    .colab-df-container {\n",
              "      display:flex;\n",
              "      flex-wrap:wrap;\n",
              "      gap: 12px;\n",
              "    }\n",
              "\n",
              "    .colab-df-convert {\n",
              "      background-color: #E8F0FE;\n",
              "      border: none;\n",
              "      border-radius: 50%;\n",
              "      cursor: pointer;\n",
              "      display: none;\n",
              "      fill: #1967D2;\n",
              "      height: 32px;\n",
              "      padding: 0 0 0 0;\n",
              "      width: 32px;\n",
              "    }\n",
              "\n",
              "    .colab-df-convert:hover {\n",
              "      background-color: #E2EBFA;\n",
              "      box-shadow: 0px 1px 2px rgba(60, 64, 67, 0.3), 0px 1px 3px 1px rgba(60, 64, 67, 0.15);\n",
              "      fill: #174EA6;\n",
              "    }\n",
              "\n",
              "    [theme=dark] .colab-df-convert {\n",
              "      background-color: #3B4455;\n",
              "      fill: #D2E3FC;\n",
              "    }\n",
              "\n",
              "    [theme=dark] .colab-df-convert:hover {\n",
              "      background-color: #434B5C;\n",
              "      box-shadow: 0px 1px 3px 1px rgba(0, 0, 0, 0.15);\n",
              "      filter: drop-shadow(0px 1px 2px rgba(0, 0, 0, 0.3));\n",
              "      fill: #FFFFFF;\n",
              "    }\n",
              "  </style>\n",
              "\n",
              "      <script>\n",
              "        const buttonEl =\n",
              "          document.querySelector('#df-af05fd75-a02e-4fe0-9262-2cf7aaedd7e8 button.colab-df-convert');\n",
              "        buttonEl.style.display =\n",
              "          google.colab.kernel.accessAllowed ? 'block' : 'none';\n",
              "\n",
              "        async function convertToInteractive(key) {\n",
              "          const element = document.querySelector('#df-af05fd75-a02e-4fe0-9262-2cf7aaedd7e8');\n",
              "          const dataTable =\n",
              "            await google.colab.kernel.invokeFunction('convertToInteractive',\n",
              "                                                     [key], {});\n",
              "          if (!dataTable) return;\n",
              "\n",
              "          const docLinkHtml = 'Like what you see? Visit the ' +\n",
              "            '<a target=\"_blank\" href=https://colab.research.google.com/notebooks/data_table.ipynb>data table notebook</a>'\n",
              "            + ' to learn more about interactive tables.';\n",
              "          element.innerHTML = '';\n",
              "          dataTable['output_type'] = 'display_data';\n",
              "          await google.colab.output.renderOutput(dataTable, element);\n",
              "          const docLink = document.createElement('div');\n",
              "          docLink.innerHTML = docLinkHtml;\n",
              "          element.appendChild(docLink);\n",
              "        }\n",
              "      </script>\n",
              "    </div>\n",
              "  </div>\n",
              "  "
            ]
          },
          "metadata": {},
          "execution_count": 63
        }
      ],
      "source": [
        "# Next we look into unique values to find out if any of the variables makes sense to transform into more meaningful values\n",
        "user_view"
      ]
    },
    {
      "cell_type": "code",
      "execution_count": 64,
      "metadata": {
        "id": "QWzCKQUoivto",
        "colab": {
          "base_uri": "https://localhost:8080/"
        },
        "outputId": "bba2a93e-4946-45f2-d620-1c3562789a4b"
      },
      "outputs": [
        {
          "output_type": "execute_result",
          "data": {
            "text/plain": [
              "array(['Part-Time', 'Full-Time/Part-Time', 'Seasonal/Temp', 'Per Diem',\n",
              "       'Intern', 'Full-Time'], dtype=object)"
            ]
          },
          "metadata": {},
          "execution_count": 64
        }
      ],
      "source": [
        "# We chose to look into Employment.Type and Education.Required, as those two don't have a massive amount of unique values. \n",
        "jobs['Employment.Type'].unique()"
      ]
    },
    {
      "cell_type": "code",
      "execution_count": 65,
      "metadata": {
        "id": "xQz9AkKplt6H"
      },
      "outputs": [],
      "source": [
        "# As we can see, there are some lables that are duplicates, like \"Temporary/seasonal\" and \"Seasonal/Temp\". \n",
        "# We combine the two into one label. \n",
        "jobs['Employment.Type'] = jobs['Employment.Type'].replace(['Seasonal/Temp'], 'Temporary/seasonal')"
      ]
    },
    {
      "cell_type": "code",
      "execution_count": 66,
      "metadata": {
        "id": "LmGeCt_jmdcW"
      },
      "outputs": [],
      "source": [
        "# We also change nan labels into str: Unspecified.\n",
        "jobs['Employment.Type'] = jobs['Employment.Type'].fillna('Unspecified')"
      ]
    },
    {
      "cell_type": "code",
      "execution_count": 67,
      "metadata": {
        "id": "6-lD6X4XmuSw",
        "colab": {
          "base_uri": "https://localhost:8080/"
        },
        "outputId": "05863ea4-a0b3-4d33-aa44-933041c6b3ed"
      },
      "outputs": [
        {
          "output_type": "execute_result",
          "data": {
            "text/plain": [
              "array(['Not Specified', 'High School Diploma', \"Master's Degree\",\n",
              "       'Associate Degree', \"Bachelor's Degree\"], dtype=object)"
            ]
          },
          "metadata": {},
          "execution_count": 67
        }
      ],
      "source": [
        "# Next we look at Education Required. Here we see that nan, Not Specified, are basically the same labels. \n",
        "jobs['Education.Required'].unique()"
      ]
    },
    {
      "cell_type": "code",
      "execution_count": 68,
      "metadata": {
        "id": "JBMCKoxTm2b2"
      },
      "outputs": [],
      "source": [
        "# Here we fill the nan values with the value 'Unspecified', thereby converting it to a str-value.\n",
        "jobs['Education.Required'] = jobs['Education.Required'].fillna('Unspecified')"
      ]
    },
    {
      "cell_type": "code",
      "execution_count": 69,
      "metadata": {
        "id": "Q0vmY5D7okrs"
      },
      "outputs": [],
      "source": [
        "# Next we replace 'Not Specified' with 'Unspecified' thereby collecting both labels into one label.\n",
        "jobs['Education.Required'] = jobs['Education.Required'].replace(['Not Specified'] , 'Unspecified')"
      ]
    },
    {
      "cell_type": "code",
      "execution_count": 70,
      "metadata": {
        "id": "CywzQ5QCo2GB",
        "colab": {
          "base_uri": "https://localhost:8080/"
        },
        "outputId": "c326e1cc-5ef6-437f-ca59-b072f8178092"
      },
      "outputs": [
        {
          "output_type": "execute_result",
          "data": {
            "text/plain": [
              "array(['Unspecified', 'High School Diploma', \"Master's Degree\",\n",
              "       'Associate Degree', \"Bachelor's Degree\"], dtype=object)"
            ]
          },
          "metadata": {},
          "execution_count": 70
        }
      ],
      "source": [
        "# Lastly we check that everything went according to plan.\n",
        "jobs['Education.Required'].unique()"
      ]
    },
    {
      "cell_type": "code",
      "execution_count": 71,
      "metadata": {
        "id": "uDdnkC-7BXFO"
      },
      "outputs": [],
      "source": [
        "# We group the positions that are similar to each other\n",
        "\n",
        "# Customer service\n",
        "jobs['Position'] = jobs['Position'].replace(['Customer Service Representative'] , 'Customer Service')\n",
        "jobs['Position'] = jobs['Position'].replace(['Customer Service / Sales ( New Grads Welcome!)'] , 'Customer Service')\n",
        "jobs['Position'] = jobs['Position'].replace(['Customer Service / Sales ( New Grads Welcome! )'] , 'Customer Service')\n",
        "jobs['Position'] = jobs['Position'].replace(['Entry Level Sales / Customer Service – Part time / Full Time'] , 'Customer Service')\n",
        "\n",
        "# Accounting\n",
        "jobs['Position'] = jobs['Position'].replace(['Accounts Payable Clerk'] , 'Accounting')\n",
        "jobs['Position'] = jobs['Position'].replace(['Accounting Clerk'] , 'Accounting')\n",
        "jobs['Position'] = jobs['Position'].replace(['Accounts Receivable Clerk'] , 'Accounting')\n",
        "jobs['Position'] = jobs['Position'].replace(['Bookkeeper'] , 'Accounting')\n",
        "jobs['Position'] = jobs['Position'].replace(['Full Charge Bookkeeper'] , 'Accounting')\n",
        "jobs['Position'] = jobs['Position'].replace(['Payroll Clerk'] , 'Accounting')\n",
        "jobs['Position'] = jobs['Position'].replace(['Billing Clerk'] , 'Accounting')\n",
        "jobs['Position'] = jobs['Position'].replace(['Payroll Administrator'] , 'Accounting')\n",
        "jobs['Position'] = jobs['Position'].replace(['Staff Accountant'] , 'Accounting')\n",
        "jobs['Position'] = jobs['Position'].replace(['Senior Accountant'] , 'Accounting')\n",
        "\n",
        "# Sales\n",
        "jobs['Position'] = jobs['Position'].replace(['Sales Representative / Sales Associate ( Entry Level )'] , 'Sales')\n",
        "jobs['Position'] = jobs['Position'].replace(['Sales Associate'] , 'Sales')\n",
        "jobs['Position'] = jobs['Position'].replace(['Seasonal Wedding Sales Stylist'] , 'Sales')\n",
        "jobs['Position'] = jobs['Position'].replace(['Retail Sales Associate - Part-Time'] , 'Sales')\n",
        "jobs['Position'] = jobs['Position'].replace(['Retail Sales Associate'] , 'Sales')\n",
        "\n",
        "# Administration\n",
        "jobs['Position'] = jobs['Position'].replace(['Administrative Assistant'] , 'Administration')\n",
        "jobs['Position'] = jobs['Position'].replace(['Receptionist'] , 'Administration')\n",
        "jobs['Position'] = jobs['Position'].replace(['Front Desk Coordinator'] , 'Administration')\n",
        "jobs['Position'] = jobs['Position'].replace(['Executive Assistant'] , 'Administration')\n",
        "jobs['Position'] = jobs['Position'].replace(['General Office Clerk '] , 'Administration')\n",
        "jobs['Position'] = jobs['Position'].replace(['Office Assistant'] , 'Administration')\n",
        "jobs['Position'] = jobs['Position'].replace(['Medical Receptionist'] , 'Administration')\n",
        "\n",
        "\n",
        "\n",
        "# Restaurant\n",
        "jobs['Position'] = jobs['Position'].replace(['Bartender'] , 'Restaurant personnel')\n",
        "jobs['Position'] = jobs['Position'].replace(['Server'] , 'Restaurant personnel')\n",
        "jobs['Position'] = jobs['Position'].replace(['Kitchen Staff'] , 'Restaurant personnel')\n",
        "jobs['Position'] = jobs['Position'].replace(['Hiring All Restaurant Positions - Servers - Cooks - Bartenders'] , 'Restaurant personnel')\n",
        "jobs['Position'] = jobs['Position'].replace(['Cook'] , 'Restaurant personnel')\n",
        "jobs['Position'] = jobs['Position'].replace(['Kitchen Staff'] , 'Restaurant personnel')\n",
        "\n",
        "\n",
        "# Caregiving\n",
        "jobs['Position'] = jobs['Position'].replace(['Caregiver / Home Health Aide / CNA'] , 'Caregiving professional')\n",
        "jobs['Position'] = jobs['Position'].replace(['Registered Nurse'] , 'Caregiving professional')\n",
        "jobs['Position'] = jobs['Position'].replace(['Home Health Aide'] , 'Caregiving professional')\n",
        "jobs['Position'] = jobs['Position'].replace(['Certified Nursing Assistant'] , 'Caregiving professional')\n",
        "jobs['Position'] = jobs['Position'].replace(['Entry Level Caregiver / Home Health Aide'] , 'Caregiving professional')\n",
        "jobs['Position'] = jobs['Position'].replace(['Caregiving'] , 'Caregiving professional')\n",
        "jobs['Position'] = jobs['Position'].replace(['Entry Level Caregiver'] , 'Caregiving professional')\n",
        "jobs['Position'] = jobs['Position'].replace(['Entry Level Healthcare Professionals wanted for Caregiver Opportunities'] , 'Caregiving professional')\n",
        "jobs['Position'] = jobs['Position'].replace(['Registered Nurse (RN) / Licensed Practical Nurse (LPN) - Healthcare Nursing Staff'] , 'Caregiving professional')\n",
        "jobs['Position'] = jobs['Position'].replace(['Licensed Practical Nurse - LPN'] , 'Caregiving professional')\n",
        "jobs['Position'] = jobs['Position'].replace(['Physical Therapist'] , 'Caregiving professional')\n",
        "jobs['Position'] = jobs['Position'].replace(['Certified Nursing Assistant (CNA) - Healthcare Nursing Staff'] , 'Caregiving professional')\n",
        "\n",
        "\n",
        "\n",
        "\n",
        "# Human resources\n",
        "jobs['Position'] = jobs['Position'].replace(['Human Resources Assistant'] , 'Human resources')\n",
        "jobs['Position'] = jobs['Position'].replace(['Human Resources Recruiter'] , 'Human resources')\n",
        "jobs['Position'] = jobs['Position'].replace([''] , 'Human resources')\n",
        "\n",
        "\n",
        "# Retail professional\n",
        "jobs['Position'] = jobs['Position'].replace(['Retail Sales Associate – Part-Time'] , 'Retail professional')\n",
        "jobs['Position'] = jobs['Position'].replace(['Retail Sales Associate / Photographer'] , 'Retail professional')\n",
        "jobs['Position'] = jobs['Position'].replace(['Retail Sales Associate - Part Time'] , 'Retail professional')\n",
        "jobs['Position'] = jobs['Position'].replace(['Part Time Retail Merchandiser'] , 'Retail professional')\n",
        "jobs['Position'] = jobs['Position'].replace(['Sales Representative - Retail'] , 'Retail professional')\n",
        "\n",
        "# Teacher \n",
        "jobs['Position'] = jobs['Position'].replace(['Assistant Teacher'] , 'Teacher employee')\n",
        "jobs['Position'] = jobs['Position'].replace(['Teacher'] , 'Teacher employee')\n",
        "jobs['Position'] = jobs['Position'].replace([''] , 'Teacher employee')\n",
        "\n",
        "\n",
        "# Security officer\n",
        "jobs['Position'] = jobs['Position'].replace(['Security Officer'] , 'Security officer')\n",
        "jobs['Position'] = jobs['Position'].replace(['Security Officer - Regular'] , 'Security officer')\n",
        "jobs['Position'] = jobs['Position'].replace([''] , 'Security officer')\n",
        "jobs['Position'] = jobs['Position'].replace([''] , 'Security officer')\n",
        "jobs['Position'] = jobs['Position'].replace([''] , 'Security officer')\n",
        "\n",
        "# Driver professional\n",
        "jobs['Position'] = jobs['Position'].replace(['Part Time School Bus Drivers WANTED - Training Available'] , 'Driver professional')\n",
        "jobs['Position'] = jobs['Position'].replace(['Delivery Driver (Part -Time)'] , 'Driver professional')\n",
        "jobs['Position'] = jobs['Position'].replace(['School Bus Driver'] , 'Driver professional')\n",
        "jobs['Position'] = jobs['Position'].replace(['Driver'] , 'Driver professional')\n",
        "jobs['Position'] = jobs['Position'].replace([''] , 'Driver professional')\n",
        "\n",
        "# ?\n",
        "\n"
      ]
    },
    {
      "cell_type": "code",
      "source": [
        "jobs = jobs[jobs['Position'].isin(['Customer Service', 'Accounting','Sales', 'Administration', 'Restaurant personnel', 'Caregiving professional', 'Human resources', 'Retail professional', 'Teacher employee','Security officer', 'Driver professional'])]"
      ],
      "metadata": {
        "id": "ysZuujZa70OI"
      },
      "execution_count": 72,
      "outputs": []
    },
    {
      "cell_type": "code",
      "source": [
        "jobs['Position'].shape"
      ],
      "metadata": {
        "id": "kYVNDcgG9mRY",
        "colab": {
          "base_uri": "https://localhost:8080/"
        },
        "outputId": "eb0552a2-4eef-4ec2-c13b-129d1aa43378"
      },
      "execution_count": 73,
      "outputs": [
        {
          "output_type": "execute_result",
          "data": {
            "text/plain": [
              "(16574,)"
            ]
          },
          "metadata": {},
          "execution_count": 73
        }
      ]
    },
    {
      "cell_type": "code",
      "source": [
        "from sklearn.preprocessing import OneHotEncoder, LabelEncoder\n",
        "import itertools"
      ],
      "metadata": {
        "id": "y9P_xR3HBLSU"
      },
      "execution_count": 74,
      "outputs": []
    },
    {
      "cell_type": "code",
      "source": [
        "ohe_jobs = OneHotEncoder(sparse=False)"
      ],
      "metadata": {
        "id": "fpFwX3OhBvnh"
      },
      "execution_count": 75,
      "outputs": []
    },
    {
      "cell_type": "code",
      "source": [
        "X = jobs['Position'].array.reshape(-1,1)"
      ],
      "metadata": {
        "id": "n9aoFB77IDj7"
      },
      "execution_count": 76,
      "outputs": []
    },
    {
      "cell_type": "code",
      "source": [
        "jobs_ohe = ohe_jobs.fit_transform(X)"
      ],
      "metadata": {
        "id": "w-DfKJ2HB9Um"
      },
      "execution_count": 77,
      "outputs": []
    },
    {
      "cell_type": "code",
      "source": [
        "columns_jobs_ohe = list(itertools.chain(*ohe_jobs.categories_))"
      ],
      "metadata": {
        "id": "xENguHVuLnCL"
      },
      "execution_count": 78,
      "outputs": []
    },
    {
      "cell_type": "code",
      "source": [
        "position_cat = pd.DataFrame(jobs_ohe, columns = columns_jobs_ohe)"
      ],
      "metadata": {
        "id": "mHN7g9oDL8zR"
      },
      "execution_count": 79,
      "outputs": []
    },
    {
      "cell_type": "code",
      "source": [
        "\n",
        "\n",
        "\n",
        "position_cat"
      ],
      "metadata": {
        "id": "OZrBI9zNMFPS",
        "colab": {
          "base_uri": "https://localhost:8080/",
          "height": 485
        },
        "outputId": "51554c7e-7f59-4dfa-a1f0-6af9b05bdc80"
      },
      "execution_count": 80,
      "outputs": [
        {
          "output_type": "execute_result",
          "data": {
            "text/plain": [
              "       Accounting  Administration  Caregiving professional  Customer Service  \\\n",
              "0             0.0             1.0                      0.0               0.0   \n",
              "1             0.0             0.0                      0.0               0.0   \n",
              "2             0.0             1.0                      0.0               0.0   \n",
              "3             0.0             0.0                      1.0               0.0   \n",
              "4             0.0             0.0                      1.0               0.0   \n",
              "...           ...             ...                      ...               ...   \n",
              "16569         0.0             0.0                      1.0               0.0   \n",
              "16570         0.0             0.0                      1.0               0.0   \n",
              "16571         0.0             0.0                      1.0               0.0   \n",
              "16572         0.0             0.0                      1.0               0.0   \n",
              "16573         0.0             0.0                      1.0               0.0   \n",
              "\n",
              "       Driver professional  Human resources  Restaurant personnel  \\\n",
              "0                      0.0              0.0                   0.0   \n",
              "1                      0.0              0.0                   1.0   \n",
              "2                      0.0              0.0                   0.0   \n",
              "3                      0.0              0.0                   0.0   \n",
              "4                      0.0              0.0                   0.0   \n",
              "...                    ...              ...                   ...   \n",
              "16569                  0.0              0.0                   0.0   \n",
              "16570                  0.0              0.0                   0.0   \n",
              "16571                  0.0              0.0                   0.0   \n",
              "16572                  0.0              0.0                   0.0   \n",
              "16573                  0.0              0.0                   0.0   \n",
              "\n",
              "       Retail professional  Sales  Security officer  Teacher employee  \n",
              "0                      0.0    0.0               0.0               0.0  \n",
              "1                      0.0    0.0               0.0               0.0  \n",
              "2                      0.0    0.0               0.0               0.0  \n",
              "3                      0.0    0.0               0.0               0.0  \n",
              "4                      0.0    0.0               0.0               0.0  \n",
              "...                    ...    ...               ...               ...  \n",
              "16569                  0.0    0.0               0.0               0.0  \n",
              "16570                  0.0    0.0               0.0               0.0  \n",
              "16571                  0.0    0.0               0.0               0.0  \n",
              "16572                  0.0    0.0               0.0               0.0  \n",
              "16573                  0.0    0.0               0.0               0.0  \n",
              "\n",
              "[16574 rows x 11 columns]"
            ],
            "text/html": [
              "\n",
              "  <div id=\"df-f1ffee6e-0890-4496-a105-9e7b006985ff\">\n",
              "    <div class=\"colab-df-container\">\n",
              "      <div>\n",
              "<style scoped>\n",
              "    .dataframe tbody tr th:only-of-type {\n",
              "        vertical-align: middle;\n",
              "    }\n",
              "\n",
              "    .dataframe tbody tr th {\n",
              "        vertical-align: top;\n",
              "    }\n",
              "\n",
              "    .dataframe thead th {\n",
              "        text-align: right;\n",
              "    }\n",
              "</style>\n",
              "<table border=\"1\" class=\"dataframe\">\n",
              "  <thead>\n",
              "    <tr style=\"text-align: right;\">\n",
              "      <th></th>\n",
              "      <th>Accounting</th>\n",
              "      <th>Administration</th>\n",
              "      <th>Caregiving professional</th>\n",
              "      <th>Customer Service</th>\n",
              "      <th>Driver professional</th>\n",
              "      <th>Human resources</th>\n",
              "      <th>Restaurant personnel</th>\n",
              "      <th>Retail professional</th>\n",
              "      <th>Sales</th>\n",
              "      <th>Security officer</th>\n",
              "      <th>Teacher employee</th>\n",
              "    </tr>\n",
              "  </thead>\n",
              "  <tbody>\n",
              "    <tr>\n",
              "      <th>0</th>\n",
              "      <td>0.0</td>\n",
              "      <td>1.0</td>\n",
              "      <td>0.0</td>\n",
              "      <td>0.0</td>\n",
              "      <td>0.0</td>\n",
              "      <td>0.0</td>\n",
              "      <td>0.0</td>\n",
              "      <td>0.0</td>\n",
              "      <td>0.0</td>\n",
              "      <td>0.0</td>\n",
              "      <td>0.0</td>\n",
              "    </tr>\n",
              "    <tr>\n",
              "      <th>1</th>\n",
              "      <td>0.0</td>\n",
              "      <td>0.0</td>\n",
              "      <td>0.0</td>\n",
              "      <td>0.0</td>\n",
              "      <td>0.0</td>\n",
              "      <td>0.0</td>\n",
              "      <td>1.0</td>\n",
              "      <td>0.0</td>\n",
              "      <td>0.0</td>\n",
              "      <td>0.0</td>\n",
              "      <td>0.0</td>\n",
              "    </tr>\n",
              "    <tr>\n",
              "      <th>2</th>\n",
              "      <td>0.0</td>\n",
              "      <td>1.0</td>\n",
              "      <td>0.0</td>\n",
              "      <td>0.0</td>\n",
              "      <td>0.0</td>\n",
              "      <td>0.0</td>\n",
              "      <td>0.0</td>\n",
              "      <td>0.0</td>\n",
              "      <td>0.0</td>\n",
              "      <td>0.0</td>\n",
              "      <td>0.0</td>\n",
              "    </tr>\n",
              "    <tr>\n",
              "      <th>3</th>\n",
              "      <td>0.0</td>\n",
              "      <td>0.0</td>\n",
              "      <td>1.0</td>\n",
              "      <td>0.0</td>\n",
              "      <td>0.0</td>\n",
              "      <td>0.0</td>\n",
              "      <td>0.0</td>\n",
              "      <td>0.0</td>\n",
              "      <td>0.0</td>\n",
              "      <td>0.0</td>\n",
              "      <td>0.0</td>\n",
              "    </tr>\n",
              "    <tr>\n",
              "      <th>4</th>\n",
              "      <td>0.0</td>\n",
              "      <td>0.0</td>\n",
              "      <td>1.0</td>\n",
              "      <td>0.0</td>\n",
              "      <td>0.0</td>\n",
              "      <td>0.0</td>\n",
              "      <td>0.0</td>\n",
              "      <td>0.0</td>\n",
              "      <td>0.0</td>\n",
              "      <td>0.0</td>\n",
              "      <td>0.0</td>\n",
              "    </tr>\n",
              "    <tr>\n",
              "      <th>...</th>\n",
              "      <td>...</td>\n",
              "      <td>...</td>\n",
              "      <td>...</td>\n",
              "      <td>...</td>\n",
              "      <td>...</td>\n",
              "      <td>...</td>\n",
              "      <td>...</td>\n",
              "      <td>...</td>\n",
              "      <td>...</td>\n",
              "      <td>...</td>\n",
              "      <td>...</td>\n",
              "    </tr>\n",
              "    <tr>\n",
              "      <th>16569</th>\n",
              "      <td>0.0</td>\n",
              "      <td>0.0</td>\n",
              "      <td>1.0</td>\n",
              "      <td>0.0</td>\n",
              "      <td>0.0</td>\n",
              "      <td>0.0</td>\n",
              "      <td>0.0</td>\n",
              "      <td>0.0</td>\n",
              "      <td>0.0</td>\n",
              "      <td>0.0</td>\n",
              "      <td>0.0</td>\n",
              "    </tr>\n",
              "    <tr>\n",
              "      <th>16570</th>\n",
              "      <td>0.0</td>\n",
              "      <td>0.0</td>\n",
              "      <td>1.0</td>\n",
              "      <td>0.0</td>\n",
              "      <td>0.0</td>\n",
              "      <td>0.0</td>\n",
              "      <td>0.0</td>\n",
              "      <td>0.0</td>\n",
              "      <td>0.0</td>\n",
              "      <td>0.0</td>\n",
              "      <td>0.0</td>\n",
              "    </tr>\n",
              "    <tr>\n",
              "      <th>16571</th>\n",
              "      <td>0.0</td>\n",
              "      <td>0.0</td>\n",
              "      <td>1.0</td>\n",
              "      <td>0.0</td>\n",
              "      <td>0.0</td>\n",
              "      <td>0.0</td>\n",
              "      <td>0.0</td>\n",
              "      <td>0.0</td>\n",
              "      <td>0.0</td>\n",
              "      <td>0.0</td>\n",
              "      <td>0.0</td>\n",
              "    </tr>\n",
              "    <tr>\n",
              "      <th>16572</th>\n",
              "      <td>0.0</td>\n",
              "      <td>0.0</td>\n",
              "      <td>1.0</td>\n",
              "      <td>0.0</td>\n",
              "      <td>0.0</td>\n",
              "      <td>0.0</td>\n",
              "      <td>0.0</td>\n",
              "      <td>0.0</td>\n",
              "      <td>0.0</td>\n",
              "      <td>0.0</td>\n",
              "      <td>0.0</td>\n",
              "    </tr>\n",
              "    <tr>\n",
              "      <th>16573</th>\n",
              "      <td>0.0</td>\n",
              "      <td>0.0</td>\n",
              "      <td>1.0</td>\n",
              "      <td>0.0</td>\n",
              "      <td>0.0</td>\n",
              "      <td>0.0</td>\n",
              "      <td>0.0</td>\n",
              "      <td>0.0</td>\n",
              "      <td>0.0</td>\n",
              "      <td>0.0</td>\n",
              "      <td>0.0</td>\n",
              "    </tr>\n",
              "  </tbody>\n",
              "</table>\n",
              "<p>16574 rows × 11 columns</p>\n",
              "</div>\n",
              "      <button class=\"colab-df-convert\" onclick=\"convertToInteractive('df-f1ffee6e-0890-4496-a105-9e7b006985ff')\"\n",
              "              title=\"Convert this dataframe to an interactive table.\"\n",
              "              style=\"display:none;\">\n",
              "        \n",
              "  <svg xmlns=\"http://www.w3.org/2000/svg\" height=\"24px\"viewBox=\"0 0 24 24\"\n",
              "       width=\"24px\">\n",
              "    <path d=\"M0 0h24v24H0V0z\" fill=\"none\"/>\n",
              "    <path d=\"M18.56 5.44l.94 2.06.94-2.06 2.06-.94-2.06-.94-.94-2.06-.94 2.06-2.06.94zm-11 1L8.5 8.5l.94-2.06 2.06-.94-2.06-.94L8.5 2.5l-.94 2.06-2.06.94zm10 10l.94 2.06.94-2.06 2.06-.94-2.06-.94-.94-2.06-.94 2.06-2.06.94z\"/><path d=\"M17.41 7.96l-1.37-1.37c-.4-.4-.92-.59-1.43-.59-.52 0-1.04.2-1.43.59L10.3 9.45l-7.72 7.72c-.78.78-.78 2.05 0 2.83L4 21.41c.39.39.9.59 1.41.59.51 0 1.02-.2 1.41-.59l7.78-7.78 2.81-2.81c.8-.78.8-2.07 0-2.86zM5.41 20L4 18.59l7.72-7.72 1.47 1.35L5.41 20z\"/>\n",
              "  </svg>\n",
              "      </button>\n",
              "      \n",
              "  <style>\n",
              "    .colab-df-container {\n",
              "      display:flex;\n",
              "      flex-wrap:wrap;\n",
              "      gap: 12px;\n",
              "    }\n",
              "\n",
              "    .colab-df-convert {\n",
              "      background-color: #E8F0FE;\n",
              "      border: none;\n",
              "      border-radius: 50%;\n",
              "      cursor: pointer;\n",
              "      display: none;\n",
              "      fill: #1967D2;\n",
              "      height: 32px;\n",
              "      padding: 0 0 0 0;\n",
              "      width: 32px;\n",
              "    }\n",
              "\n",
              "    .colab-df-convert:hover {\n",
              "      background-color: #E2EBFA;\n",
              "      box-shadow: 0px 1px 2px rgba(60, 64, 67, 0.3), 0px 1px 3px 1px rgba(60, 64, 67, 0.15);\n",
              "      fill: #174EA6;\n",
              "    }\n",
              "\n",
              "    [theme=dark] .colab-df-convert {\n",
              "      background-color: #3B4455;\n",
              "      fill: #D2E3FC;\n",
              "    }\n",
              "\n",
              "    [theme=dark] .colab-df-convert:hover {\n",
              "      background-color: #434B5C;\n",
              "      box-shadow: 0px 1px 3px 1px rgba(0, 0, 0, 0.15);\n",
              "      filter: drop-shadow(0px 1px 2px rgba(0, 0, 0, 0.3));\n",
              "      fill: #FFFFFF;\n",
              "    }\n",
              "  </style>\n",
              "\n",
              "      <script>\n",
              "        const buttonEl =\n",
              "          document.querySelector('#df-f1ffee6e-0890-4496-a105-9e7b006985ff button.colab-df-convert');\n",
              "        buttonEl.style.display =\n",
              "          google.colab.kernel.accessAllowed ? 'block' : 'none';\n",
              "\n",
              "        async function convertToInteractive(key) {\n",
              "          const element = document.querySelector('#df-f1ffee6e-0890-4496-a105-9e7b006985ff');\n",
              "          const dataTable =\n",
              "            await google.colab.kernel.invokeFunction('convertToInteractive',\n",
              "                                                     [key], {});\n",
              "          if (!dataTable) return;\n",
              "\n",
              "          const docLinkHtml = 'Like what you see? Visit the ' +\n",
              "            '<a target=\"_blank\" href=https://colab.research.google.com/notebooks/data_table.ipynb>data table notebook</a>'\n",
              "            + ' to learn more about interactive tables.';\n",
              "          element.innerHTML = '';\n",
              "          dataTable['output_type'] = 'display_data';\n",
              "          await google.colab.output.renderOutput(dataTable, element);\n",
              "          const docLink = document.createElement('div');\n",
              "          docLink.innerHTML = docLinkHtml;\n",
              "          element.appendChild(docLink);\n",
              "        }\n",
              "      </script>\n",
              "    </div>\n",
              "  </div>\n",
              "  "
            ]
          },
          "metadata": {},
          "execution_count": 80
        }
      ]
    },
    {
      "cell_type": "code",
      "source": [
        "X.index = range(len(X))\n",
        "position_cat.index = range(len(position_cat))"
      ],
      "metadata": {
        "id": "eZLS9lN2Q0C8"
      },
      "execution_count": 81,
      "outputs": []
    },
    {
      "cell_type": "code",
      "execution_count": 82,
      "metadata": {
        "id": "yZQqeUr6FHMu",
        "colab": {
          "base_uri": "https://localhost:8080/"
        },
        "outputId": "223635cd-74bd-4a66-9760-4aa382d42125"
      },
      "outputs": [
        {
          "output_type": "execute_result",
          "data": {
            "text/plain": [
              "11"
            ]
          },
          "metadata": {},
          "execution_count": 82
        }
      ],
      "source": [
        "jobs['Position'].nunique()"
      ]
    },
    {
      "cell_type": "code",
      "source": [],
      "metadata": {
        "id": "xWOmh2k5BXK5"
      },
      "execution_count": 82,
      "outputs": []
    },
    {
      "cell_type": "code",
      "source": [
        "ohe_state = OneHotEncoder(sparse=False)"
      ],
      "metadata": {
        "id": "SNScVa03BXT_"
      },
      "execution_count": 83,
      "outputs": []
    },
    {
      "cell_type": "code",
      "source": [
        "X2 = jobs['State.Name'].array.reshape(-1,1)"
      ],
      "metadata": {
        "id": "pslgoOzRBXUA"
      },
      "execution_count": 84,
      "outputs": []
    },
    {
      "cell_type": "code",
      "source": [
        "state_ohe = ohe_state.fit_transform(X2)"
      ],
      "metadata": {
        "id": "eicPRdCFBXUB"
      },
      "execution_count": 85,
      "outputs": []
    },
    {
      "cell_type": "code",
      "source": [
        "columns_state_ohe = list(itertools.chain(*ohe_state.categories_))"
      ],
      "metadata": {
        "id": "mYTqnBLoBXUB"
      },
      "execution_count": 86,
      "outputs": []
    },
    {
      "cell_type": "code",
      "source": [
        "state_cat = pd.DataFrame(state_ohe, columns = columns_state_ohe)"
      ],
      "metadata": {
        "id": "pyg7xTlwBXUB"
      },
      "execution_count": 87,
      "outputs": []
    },
    {
      "cell_type": "code",
      "source": [
        "state_cat"
      ],
      "metadata": {
        "id": "RkBdI0CVBXUB",
        "colab": {
          "base_uri": "https://localhost:8080/",
          "height": 522
        },
        "outputId": "0a863cec-f782-427c-de66-58bb9ff1ae05"
      },
      "execution_count": 88,
      "outputs": [
        {
          "output_type": "execute_result",
          "data": {
            "text/plain": [
              "       Alabama  Alaska  Arizona  Arkansas  California  Colorado  Connecticut  \\\n",
              "0          0.0     0.0      1.0       0.0         0.0       0.0          0.0   \n",
              "1          0.0     0.0      0.0       0.0         0.0       0.0          0.0   \n",
              "2          0.0     0.0      0.0       0.0         0.0       0.0          0.0   \n",
              "3          0.0     0.0      0.0       0.0         0.0       0.0          0.0   \n",
              "4          0.0     0.0      0.0       0.0         0.0       0.0          0.0   \n",
              "...        ...     ...      ...       ...         ...       ...          ...   \n",
              "16569      0.0     0.0      0.0       0.0         0.0       0.0          0.0   \n",
              "16570      0.0     0.0      0.0       0.0         0.0       0.0          0.0   \n",
              "16571      0.0     0.0      0.0       0.0         1.0       0.0          0.0   \n",
              "16572      0.0     0.0      0.0       0.0         0.0       0.0          0.0   \n",
              "16573      0.0     0.0      0.0       0.0         0.0       0.0          0.0   \n",
              "\n",
              "       Delaware  District of Columbia  Florida  ...  South Dakota  Tennessee  \\\n",
              "0           0.0                   0.0      0.0  ...           0.0        0.0   \n",
              "1           0.0                   0.0      0.0  ...           0.0        0.0   \n",
              "2           0.0                   0.0      0.0  ...           0.0        0.0   \n",
              "3           0.0                   0.0      1.0  ...           0.0        0.0   \n",
              "4           0.0                   0.0      0.0  ...           0.0        0.0   \n",
              "...         ...                   ...      ...  ...           ...        ...   \n",
              "16569       0.0                   0.0      0.0  ...           0.0        0.0   \n",
              "16570       0.0                   0.0      0.0  ...           0.0        0.0   \n",
              "16571       0.0                   0.0      0.0  ...           0.0        0.0   \n",
              "16572       0.0                   0.0      0.0  ...           0.0        0.0   \n",
              "16573       0.0                   0.0      1.0  ...           0.0        0.0   \n",
              "\n",
              "       Texas  Utah  Vermont  Virginia  Washington  West Virginia  Wisconsin  \\\n",
              "0        0.0   0.0      0.0       0.0         0.0            0.0        0.0   \n",
              "1        0.0   0.0      0.0       0.0         0.0            0.0        1.0   \n",
              "2        0.0   0.0      0.0       0.0         0.0            0.0        0.0   \n",
              "3        0.0   0.0      0.0       0.0         0.0            0.0        0.0   \n",
              "4        0.0   0.0      0.0       0.0         0.0            0.0        0.0   \n",
              "...      ...   ...      ...       ...         ...            ...        ...   \n",
              "16569    0.0   0.0      0.0       0.0         0.0            0.0        0.0   \n",
              "16570    0.0   0.0      0.0       1.0         0.0            0.0        0.0   \n",
              "16571    0.0   0.0      0.0       0.0         0.0            0.0        0.0   \n",
              "16572    1.0   0.0      0.0       0.0         0.0            0.0        0.0   \n",
              "16573    0.0   0.0      0.0       0.0         0.0            0.0        0.0   \n",
              "\n",
              "       Wyoming  \n",
              "0          0.0  \n",
              "1          0.0  \n",
              "2          0.0  \n",
              "3          0.0  \n",
              "4          0.0  \n",
              "...        ...  \n",
              "16569      0.0  \n",
              "16570      0.0  \n",
              "16571      0.0  \n",
              "16572      0.0  \n",
              "16573      0.0  \n",
              "\n",
              "[16574 rows x 51 columns]"
            ],
            "text/html": [
              "\n",
              "  <div id=\"df-6fd93ab7-2a7f-432a-8daf-b8e7d337a15e\">\n",
              "    <div class=\"colab-df-container\">\n",
              "      <div>\n",
              "<style scoped>\n",
              "    .dataframe tbody tr th:only-of-type {\n",
              "        vertical-align: middle;\n",
              "    }\n",
              "\n",
              "    .dataframe tbody tr th {\n",
              "        vertical-align: top;\n",
              "    }\n",
              "\n",
              "    .dataframe thead th {\n",
              "        text-align: right;\n",
              "    }\n",
              "</style>\n",
              "<table border=\"1\" class=\"dataframe\">\n",
              "  <thead>\n",
              "    <tr style=\"text-align: right;\">\n",
              "      <th></th>\n",
              "      <th>Alabama</th>\n",
              "      <th>Alaska</th>\n",
              "      <th>Arizona</th>\n",
              "      <th>Arkansas</th>\n",
              "      <th>California</th>\n",
              "      <th>Colorado</th>\n",
              "      <th>Connecticut</th>\n",
              "      <th>Delaware</th>\n",
              "      <th>District of Columbia</th>\n",
              "      <th>Florida</th>\n",
              "      <th>...</th>\n",
              "      <th>South Dakota</th>\n",
              "      <th>Tennessee</th>\n",
              "      <th>Texas</th>\n",
              "      <th>Utah</th>\n",
              "      <th>Vermont</th>\n",
              "      <th>Virginia</th>\n",
              "      <th>Washington</th>\n",
              "      <th>West Virginia</th>\n",
              "      <th>Wisconsin</th>\n",
              "      <th>Wyoming</th>\n",
              "    </tr>\n",
              "  </thead>\n",
              "  <tbody>\n",
              "    <tr>\n",
              "      <th>0</th>\n",
              "      <td>0.0</td>\n",
              "      <td>0.0</td>\n",
              "      <td>1.0</td>\n",
              "      <td>0.0</td>\n",
              "      <td>0.0</td>\n",
              "      <td>0.0</td>\n",
              "      <td>0.0</td>\n",
              "      <td>0.0</td>\n",
              "      <td>0.0</td>\n",
              "      <td>0.0</td>\n",
              "      <td>...</td>\n",
              "      <td>0.0</td>\n",
              "      <td>0.0</td>\n",
              "      <td>0.0</td>\n",
              "      <td>0.0</td>\n",
              "      <td>0.0</td>\n",
              "      <td>0.0</td>\n",
              "      <td>0.0</td>\n",
              "      <td>0.0</td>\n",
              "      <td>0.0</td>\n",
              "      <td>0.0</td>\n",
              "    </tr>\n",
              "    <tr>\n",
              "      <th>1</th>\n",
              "      <td>0.0</td>\n",
              "      <td>0.0</td>\n",
              "      <td>0.0</td>\n",
              "      <td>0.0</td>\n",
              "      <td>0.0</td>\n",
              "      <td>0.0</td>\n",
              "      <td>0.0</td>\n",
              "      <td>0.0</td>\n",
              "      <td>0.0</td>\n",
              "      <td>0.0</td>\n",
              "      <td>...</td>\n",
              "      <td>0.0</td>\n",
              "      <td>0.0</td>\n",
              "      <td>0.0</td>\n",
              "      <td>0.0</td>\n",
              "      <td>0.0</td>\n",
              "      <td>0.0</td>\n",
              "      <td>0.0</td>\n",
              "      <td>0.0</td>\n",
              "      <td>1.0</td>\n",
              "      <td>0.0</td>\n",
              "    </tr>\n",
              "    <tr>\n",
              "      <th>2</th>\n",
              "      <td>0.0</td>\n",
              "      <td>0.0</td>\n",
              "      <td>0.0</td>\n",
              "      <td>0.0</td>\n",
              "      <td>0.0</td>\n",
              "      <td>0.0</td>\n",
              "      <td>0.0</td>\n",
              "      <td>0.0</td>\n",
              "      <td>0.0</td>\n",
              "      <td>0.0</td>\n",
              "      <td>...</td>\n",
              "      <td>0.0</td>\n",
              "      <td>0.0</td>\n",
              "      <td>0.0</td>\n",
              "      <td>0.0</td>\n",
              "      <td>0.0</td>\n",
              "      <td>0.0</td>\n",
              "      <td>0.0</td>\n",
              "      <td>0.0</td>\n",
              "      <td>0.0</td>\n",
              "      <td>0.0</td>\n",
              "    </tr>\n",
              "    <tr>\n",
              "      <th>3</th>\n",
              "      <td>0.0</td>\n",
              "      <td>0.0</td>\n",
              "      <td>0.0</td>\n",
              "      <td>0.0</td>\n",
              "      <td>0.0</td>\n",
              "      <td>0.0</td>\n",
              "      <td>0.0</td>\n",
              "      <td>0.0</td>\n",
              "      <td>0.0</td>\n",
              "      <td>1.0</td>\n",
              "      <td>...</td>\n",
              "      <td>0.0</td>\n",
              "      <td>0.0</td>\n",
              "      <td>0.0</td>\n",
              "      <td>0.0</td>\n",
              "      <td>0.0</td>\n",
              "      <td>0.0</td>\n",
              "      <td>0.0</td>\n",
              "      <td>0.0</td>\n",
              "      <td>0.0</td>\n",
              "      <td>0.0</td>\n",
              "    </tr>\n",
              "    <tr>\n",
              "      <th>4</th>\n",
              "      <td>0.0</td>\n",
              "      <td>0.0</td>\n",
              "      <td>0.0</td>\n",
              "      <td>0.0</td>\n",
              "      <td>0.0</td>\n",
              "      <td>0.0</td>\n",
              "      <td>0.0</td>\n",
              "      <td>0.0</td>\n",
              "      <td>0.0</td>\n",
              "      <td>0.0</td>\n",
              "      <td>...</td>\n",
              "      <td>0.0</td>\n",
              "      <td>0.0</td>\n",
              "      <td>0.0</td>\n",
              "      <td>0.0</td>\n",
              "      <td>0.0</td>\n",
              "      <td>0.0</td>\n",
              "      <td>0.0</td>\n",
              "      <td>0.0</td>\n",
              "      <td>0.0</td>\n",
              "      <td>0.0</td>\n",
              "    </tr>\n",
              "    <tr>\n",
              "      <th>...</th>\n",
              "      <td>...</td>\n",
              "      <td>...</td>\n",
              "      <td>...</td>\n",
              "      <td>...</td>\n",
              "      <td>...</td>\n",
              "      <td>...</td>\n",
              "      <td>...</td>\n",
              "      <td>...</td>\n",
              "      <td>...</td>\n",
              "      <td>...</td>\n",
              "      <td>...</td>\n",
              "      <td>...</td>\n",
              "      <td>...</td>\n",
              "      <td>...</td>\n",
              "      <td>...</td>\n",
              "      <td>...</td>\n",
              "      <td>...</td>\n",
              "      <td>...</td>\n",
              "      <td>...</td>\n",
              "      <td>...</td>\n",
              "      <td>...</td>\n",
              "    </tr>\n",
              "    <tr>\n",
              "      <th>16569</th>\n",
              "      <td>0.0</td>\n",
              "      <td>0.0</td>\n",
              "      <td>0.0</td>\n",
              "      <td>0.0</td>\n",
              "      <td>0.0</td>\n",
              "      <td>0.0</td>\n",
              "      <td>0.0</td>\n",
              "      <td>0.0</td>\n",
              "      <td>0.0</td>\n",
              "      <td>0.0</td>\n",
              "      <td>...</td>\n",
              "      <td>0.0</td>\n",
              "      <td>0.0</td>\n",
              "      <td>0.0</td>\n",
              "      <td>0.0</td>\n",
              "      <td>0.0</td>\n",
              "      <td>0.0</td>\n",
              "      <td>0.0</td>\n",
              "      <td>0.0</td>\n",
              "      <td>0.0</td>\n",
              "      <td>0.0</td>\n",
              "    </tr>\n",
              "    <tr>\n",
              "      <th>16570</th>\n",
              "      <td>0.0</td>\n",
              "      <td>0.0</td>\n",
              "      <td>0.0</td>\n",
              "      <td>0.0</td>\n",
              "      <td>0.0</td>\n",
              "      <td>0.0</td>\n",
              "      <td>0.0</td>\n",
              "      <td>0.0</td>\n",
              "      <td>0.0</td>\n",
              "      <td>0.0</td>\n",
              "      <td>...</td>\n",
              "      <td>0.0</td>\n",
              "      <td>0.0</td>\n",
              "      <td>0.0</td>\n",
              "      <td>0.0</td>\n",
              "      <td>0.0</td>\n",
              "      <td>1.0</td>\n",
              "      <td>0.0</td>\n",
              "      <td>0.0</td>\n",
              "      <td>0.0</td>\n",
              "      <td>0.0</td>\n",
              "    </tr>\n",
              "    <tr>\n",
              "      <th>16571</th>\n",
              "      <td>0.0</td>\n",
              "      <td>0.0</td>\n",
              "      <td>0.0</td>\n",
              "      <td>0.0</td>\n",
              "      <td>1.0</td>\n",
              "      <td>0.0</td>\n",
              "      <td>0.0</td>\n",
              "      <td>0.0</td>\n",
              "      <td>0.0</td>\n",
              "      <td>0.0</td>\n",
              "      <td>...</td>\n",
              "      <td>0.0</td>\n",
              "      <td>0.0</td>\n",
              "      <td>0.0</td>\n",
              "      <td>0.0</td>\n",
              "      <td>0.0</td>\n",
              "      <td>0.0</td>\n",
              "      <td>0.0</td>\n",
              "      <td>0.0</td>\n",
              "      <td>0.0</td>\n",
              "      <td>0.0</td>\n",
              "    </tr>\n",
              "    <tr>\n",
              "      <th>16572</th>\n",
              "      <td>0.0</td>\n",
              "      <td>0.0</td>\n",
              "      <td>0.0</td>\n",
              "      <td>0.0</td>\n",
              "      <td>0.0</td>\n",
              "      <td>0.0</td>\n",
              "      <td>0.0</td>\n",
              "      <td>0.0</td>\n",
              "      <td>0.0</td>\n",
              "      <td>0.0</td>\n",
              "      <td>...</td>\n",
              "      <td>0.0</td>\n",
              "      <td>0.0</td>\n",
              "      <td>1.0</td>\n",
              "      <td>0.0</td>\n",
              "      <td>0.0</td>\n",
              "      <td>0.0</td>\n",
              "      <td>0.0</td>\n",
              "      <td>0.0</td>\n",
              "      <td>0.0</td>\n",
              "      <td>0.0</td>\n",
              "    </tr>\n",
              "    <tr>\n",
              "      <th>16573</th>\n",
              "      <td>0.0</td>\n",
              "      <td>0.0</td>\n",
              "      <td>0.0</td>\n",
              "      <td>0.0</td>\n",
              "      <td>0.0</td>\n",
              "      <td>0.0</td>\n",
              "      <td>0.0</td>\n",
              "      <td>0.0</td>\n",
              "      <td>0.0</td>\n",
              "      <td>1.0</td>\n",
              "      <td>...</td>\n",
              "      <td>0.0</td>\n",
              "      <td>0.0</td>\n",
              "      <td>0.0</td>\n",
              "      <td>0.0</td>\n",
              "      <td>0.0</td>\n",
              "      <td>0.0</td>\n",
              "      <td>0.0</td>\n",
              "      <td>0.0</td>\n",
              "      <td>0.0</td>\n",
              "      <td>0.0</td>\n",
              "    </tr>\n",
              "  </tbody>\n",
              "</table>\n",
              "<p>16574 rows × 51 columns</p>\n",
              "</div>\n",
              "      <button class=\"colab-df-convert\" onclick=\"convertToInteractive('df-6fd93ab7-2a7f-432a-8daf-b8e7d337a15e')\"\n",
              "              title=\"Convert this dataframe to an interactive table.\"\n",
              "              style=\"display:none;\">\n",
              "        \n",
              "  <svg xmlns=\"http://www.w3.org/2000/svg\" height=\"24px\"viewBox=\"0 0 24 24\"\n",
              "       width=\"24px\">\n",
              "    <path d=\"M0 0h24v24H0V0z\" fill=\"none\"/>\n",
              "    <path d=\"M18.56 5.44l.94 2.06.94-2.06 2.06-.94-2.06-.94-.94-2.06-.94 2.06-2.06.94zm-11 1L8.5 8.5l.94-2.06 2.06-.94-2.06-.94L8.5 2.5l-.94 2.06-2.06.94zm10 10l.94 2.06.94-2.06 2.06-.94-2.06-.94-.94-2.06-.94 2.06-2.06.94z\"/><path d=\"M17.41 7.96l-1.37-1.37c-.4-.4-.92-.59-1.43-.59-.52 0-1.04.2-1.43.59L10.3 9.45l-7.72 7.72c-.78.78-.78 2.05 0 2.83L4 21.41c.39.39.9.59 1.41.59.51 0 1.02-.2 1.41-.59l7.78-7.78 2.81-2.81c.8-.78.8-2.07 0-2.86zM5.41 20L4 18.59l7.72-7.72 1.47 1.35L5.41 20z\"/>\n",
              "  </svg>\n",
              "      </button>\n",
              "      \n",
              "  <style>\n",
              "    .colab-df-container {\n",
              "      display:flex;\n",
              "      flex-wrap:wrap;\n",
              "      gap: 12px;\n",
              "    }\n",
              "\n",
              "    .colab-df-convert {\n",
              "      background-color: #E8F0FE;\n",
              "      border: none;\n",
              "      border-radius: 50%;\n",
              "      cursor: pointer;\n",
              "      display: none;\n",
              "      fill: #1967D2;\n",
              "      height: 32px;\n",
              "      padding: 0 0 0 0;\n",
              "      width: 32px;\n",
              "    }\n",
              "\n",
              "    .colab-df-convert:hover {\n",
              "      background-color: #E2EBFA;\n",
              "      box-shadow: 0px 1px 2px rgba(60, 64, 67, 0.3), 0px 1px 3px 1px rgba(60, 64, 67, 0.15);\n",
              "      fill: #174EA6;\n",
              "    }\n",
              "\n",
              "    [theme=dark] .colab-df-convert {\n",
              "      background-color: #3B4455;\n",
              "      fill: #D2E3FC;\n",
              "    }\n",
              "\n",
              "    [theme=dark] .colab-df-convert:hover {\n",
              "      background-color: #434B5C;\n",
              "      box-shadow: 0px 1px 3px 1px rgba(0, 0, 0, 0.15);\n",
              "      filter: drop-shadow(0px 1px 2px rgba(0, 0, 0, 0.3));\n",
              "      fill: #FFFFFF;\n",
              "    }\n",
              "  </style>\n",
              "\n",
              "      <script>\n",
              "        const buttonEl =\n",
              "          document.querySelector('#df-6fd93ab7-2a7f-432a-8daf-b8e7d337a15e button.colab-df-convert');\n",
              "        buttonEl.style.display =\n",
              "          google.colab.kernel.accessAllowed ? 'block' : 'none';\n",
              "\n",
              "        async function convertToInteractive(key) {\n",
              "          const element = document.querySelector('#df-6fd93ab7-2a7f-432a-8daf-b8e7d337a15e');\n",
              "          const dataTable =\n",
              "            await google.colab.kernel.invokeFunction('convertToInteractive',\n",
              "                                                     [key], {});\n",
              "          if (!dataTable) return;\n",
              "\n",
              "          const docLinkHtml = 'Like what you see? Visit the ' +\n",
              "            '<a target=\"_blank\" href=https://colab.research.google.com/notebooks/data_table.ipynb>data table notebook</a>'\n",
              "            + ' to learn more about interactive tables.';\n",
              "          element.innerHTML = '';\n",
              "          dataTable['output_type'] = 'display_data';\n",
              "          await google.colab.output.renderOutput(dataTable, element);\n",
              "          const docLink = document.createElement('div');\n",
              "          docLink.innerHTML = docLinkHtml;\n",
              "          element.appendChild(docLink);\n",
              "        }\n",
              "      </script>\n",
              "    </div>\n",
              "  </div>\n",
              "  "
            ]
          },
          "metadata": {},
          "execution_count": 88
        }
      ]
    },
    {
      "cell_type": "code",
      "source": [],
      "metadata": {
        "id": "e3xZKzQYDFtX"
      },
      "execution_count": 88,
      "outputs": []
    },
    {
      "cell_type": "code",
      "source": [
        "ohe_city = OneHotEncoder(sparse=False)"
      ],
      "metadata": {
        "id": "cDcwMCxNDF8Z"
      },
      "execution_count": 89,
      "outputs": []
    },
    {
      "cell_type": "code",
      "source": [
        "X3 = jobs['City'].array.reshape(-1,1)"
      ],
      "metadata": {
        "id": "F6CQY4C2DF8Z"
      },
      "execution_count": 90,
      "outputs": []
    },
    {
      "cell_type": "code",
      "source": [
        "city_ohe = ohe_city.fit_transform(X3)"
      ],
      "metadata": {
        "id": "Eu0bYd_8DF8a"
      },
      "execution_count": 91,
      "outputs": []
    },
    {
      "cell_type": "code",
      "source": [
        "columns_city_ohe = list(itertools.chain(*ohe_city.categories_))"
      ],
      "metadata": {
        "id": "EBeWMRWrDF8a"
      },
      "execution_count": 92,
      "outputs": []
    },
    {
      "cell_type": "code",
      "source": [
        "city_cat = pd.DataFrame(city_ohe, columns = columns_city_ohe)"
      ],
      "metadata": {
        "id": "dT5kLNJbDF8a"
      },
      "execution_count": 93,
      "outputs": []
    },
    {
      "cell_type": "code",
      "source": [
        "city_cat.shape"
      ],
      "metadata": {
        "id": "45rF_pv_DaOP",
        "colab": {
          "base_uri": "https://localhost:8080/"
        },
        "outputId": "dff17ec7-2331-4234-845d-158f2aec459d"
      },
      "execution_count": 94,
      "outputs": [
        {
          "output_type": "execute_result",
          "data": {
            "text/plain": [
              "(16574, 2604)"
            ]
          },
          "metadata": {},
          "execution_count": 94
        }
      ]
    },
    {
      "cell_type": "code",
      "source": [
        "city_cat"
      ],
      "metadata": {
        "id": "DiCpUjOYDF8a",
        "colab": {
          "base_uri": "https://localhost:8080/",
          "height": 505
        },
        "outputId": "3f738e84-3f7b-4bcb-d134-c7e153f07131"
      },
      "execution_count": 95,
      "outputs": [
        {
          "output_type": "execute_result",
          "data": {
            "text/plain": [
              "       Abbeville  Aberdeen  Abingdon  Abington  Acton  Acworth  Ada  Adams  \\\n",
              "0            0.0       0.0       0.0       0.0    0.0      0.0  0.0    0.0   \n",
              "1            0.0       0.0       0.0       0.0    0.0      0.0  0.0    0.0   \n",
              "2            0.0       0.0       0.0       0.0    0.0      0.0  0.0    0.0   \n",
              "3            0.0       0.0       0.0       0.0    0.0      0.0  0.0    0.0   \n",
              "4            0.0       0.0       0.0       0.0    0.0      0.0  0.0    0.0   \n",
              "...          ...       ...       ...       ...    ...      ...  ...    ...   \n",
              "16569        0.0       0.0       0.0       0.0    0.0      0.0  0.0    0.0   \n",
              "16570        0.0       0.0       0.0       0.0    0.0      0.0  0.0    0.0   \n",
              "16571        0.0       0.0       0.0       0.0    0.0      0.0  0.0    0.0   \n",
              "16572        0.0       0.0       0.0       0.0    0.0      0.0  0.0    0.0   \n",
              "16573        0.0       0.0       0.0       0.0    0.0      0.0  0.0    0.0   \n",
              "\n",
              "       Adamsburg  Addison  ...  York  York Harbor  Yorktown  Youngstown  \\\n",
              "0            0.0      0.0  ...   0.0          0.0       0.0         0.0   \n",
              "1            0.0      0.0  ...   0.0          0.0       0.0         0.0   \n",
              "2            0.0      0.0  ...   0.0          0.0       0.0         0.0   \n",
              "3            0.0      0.0  ...   0.0          0.0       0.0         0.0   \n",
              "4            0.0      0.0  ...   0.0          0.0       0.0         0.0   \n",
              "...          ...      ...  ...   ...          ...       ...         ...   \n",
              "16569        0.0      0.0  ...   0.0          0.0       0.0         0.0   \n",
              "16570        0.0      0.0  ...   0.0          0.0       0.0         0.0   \n",
              "16571        0.0      0.0  ...   0.0          0.0       0.0         0.0   \n",
              "16572        0.0      0.0  ...   0.0          0.0       0.0         0.0   \n",
              "16573        0.0      0.0  ...   0.0          0.0       0.0         0.0   \n",
              "\n",
              "       Youngsville  Ypsilanti  Zanesville  Zelienople  Zellwood  Zionsville  \n",
              "0              0.0        0.0         0.0         0.0       0.0         0.0  \n",
              "1              0.0        0.0         0.0         0.0       0.0         0.0  \n",
              "2              0.0        0.0         0.0         0.0       0.0         0.0  \n",
              "3              0.0        0.0         0.0         0.0       0.0         0.0  \n",
              "4              0.0        0.0         0.0         0.0       0.0         0.0  \n",
              "...            ...        ...         ...         ...       ...         ...  \n",
              "16569          0.0        0.0         0.0         0.0       0.0         0.0  \n",
              "16570          0.0        0.0         0.0         0.0       0.0         0.0  \n",
              "16571          0.0        0.0         0.0         0.0       0.0         0.0  \n",
              "16572          0.0        0.0         0.0         0.0       0.0         0.0  \n",
              "16573          0.0        0.0         0.0         0.0       0.0         0.0  \n",
              "\n",
              "[16574 rows x 2604 columns]"
            ],
            "text/html": [
              "\n",
              "  <div id=\"df-6b4399a4-2fdf-4d89-82b2-2cac66825a82\">\n",
              "    <div class=\"colab-df-container\">\n",
              "      <div>\n",
              "<style scoped>\n",
              "    .dataframe tbody tr th:only-of-type {\n",
              "        vertical-align: middle;\n",
              "    }\n",
              "\n",
              "    .dataframe tbody tr th {\n",
              "        vertical-align: top;\n",
              "    }\n",
              "\n",
              "    .dataframe thead th {\n",
              "        text-align: right;\n",
              "    }\n",
              "</style>\n",
              "<table border=\"1\" class=\"dataframe\">\n",
              "  <thead>\n",
              "    <tr style=\"text-align: right;\">\n",
              "      <th></th>\n",
              "      <th>Abbeville</th>\n",
              "      <th>Aberdeen</th>\n",
              "      <th>Abingdon</th>\n",
              "      <th>Abington</th>\n",
              "      <th>Acton</th>\n",
              "      <th>Acworth</th>\n",
              "      <th>Ada</th>\n",
              "      <th>Adams</th>\n",
              "      <th>Adamsburg</th>\n",
              "      <th>Addison</th>\n",
              "      <th>...</th>\n",
              "      <th>York</th>\n",
              "      <th>York Harbor</th>\n",
              "      <th>Yorktown</th>\n",
              "      <th>Youngstown</th>\n",
              "      <th>Youngsville</th>\n",
              "      <th>Ypsilanti</th>\n",
              "      <th>Zanesville</th>\n",
              "      <th>Zelienople</th>\n",
              "      <th>Zellwood</th>\n",
              "      <th>Zionsville</th>\n",
              "    </tr>\n",
              "  </thead>\n",
              "  <tbody>\n",
              "    <tr>\n",
              "      <th>0</th>\n",
              "      <td>0.0</td>\n",
              "      <td>0.0</td>\n",
              "      <td>0.0</td>\n",
              "      <td>0.0</td>\n",
              "      <td>0.0</td>\n",
              "      <td>0.0</td>\n",
              "      <td>0.0</td>\n",
              "      <td>0.0</td>\n",
              "      <td>0.0</td>\n",
              "      <td>0.0</td>\n",
              "      <td>...</td>\n",
              "      <td>0.0</td>\n",
              "      <td>0.0</td>\n",
              "      <td>0.0</td>\n",
              "      <td>0.0</td>\n",
              "      <td>0.0</td>\n",
              "      <td>0.0</td>\n",
              "      <td>0.0</td>\n",
              "      <td>0.0</td>\n",
              "      <td>0.0</td>\n",
              "      <td>0.0</td>\n",
              "    </tr>\n",
              "    <tr>\n",
              "      <th>1</th>\n",
              "      <td>0.0</td>\n",
              "      <td>0.0</td>\n",
              "      <td>0.0</td>\n",
              "      <td>0.0</td>\n",
              "      <td>0.0</td>\n",
              "      <td>0.0</td>\n",
              "      <td>0.0</td>\n",
              "      <td>0.0</td>\n",
              "      <td>0.0</td>\n",
              "      <td>0.0</td>\n",
              "      <td>...</td>\n",
              "      <td>0.0</td>\n",
              "      <td>0.0</td>\n",
              "      <td>0.0</td>\n",
              "      <td>0.0</td>\n",
              "      <td>0.0</td>\n",
              "      <td>0.0</td>\n",
              "      <td>0.0</td>\n",
              "      <td>0.0</td>\n",
              "      <td>0.0</td>\n",
              "      <td>0.0</td>\n",
              "    </tr>\n",
              "    <tr>\n",
              "      <th>2</th>\n",
              "      <td>0.0</td>\n",
              "      <td>0.0</td>\n",
              "      <td>0.0</td>\n",
              "      <td>0.0</td>\n",
              "      <td>0.0</td>\n",
              "      <td>0.0</td>\n",
              "      <td>0.0</td>\n",
              "      <td>0.0</td>\n",
              "      <td>0.0</td>\n",
              "      <td>0.0</td>\n",
              "      <td>...</td>\n",
              "      <td>0.0</td>\n",
              "      <td>0.0</td>\n",
              "      <td>0.0</td>\n",
              "      <td>0.0</td>\n",
              "      <td>0.0</td>\n",
              "      <td>0.0</td>\n",
              "      <td>0.0</td>\n",
              "      <td>0.0</td>\n",
              "      <td>0.0</td>\n",
              "      <td>0.0</td>\n",
              "    </tr>\n",
              "    <tr>\n",
              "      <th>3</th>\n",
              "      <td>0.0</td>\n",
              "      <td>0.0</td>\n",
              "      <td>0.0</td>\n",
              "      <td>0.0</td>\n",
              "      <td>0.0</td>\n",
              "      <td>0.0</td>\n",
              "      <td>0.0</td>\n",
              "      <td>0.0</td>\n",
              "      <td>0.0</td>\n",
              "      <td>0.0</td>\n",
              "      <td>...</td>\n",
              "      <td>0.0</td>\n",
              "      <td>0.0</td>\n",
              "      <td>0.0</td>\n",
              "      <td>0.0</td>\n",
              "      <td>0.0</td>\n",
              "      <td>0.0</td>\n",
              "      <td>0.0</td>\n",
              "      <td>0.0</td>\n",
              "      <td>0.0</td>\n",
              "      <td>0.0</td>\n",
              "    </tr>\n",
              "    <tr>\n",
              "      <th>4</th>\n",
              "      <td>0.0</td>\n",
              "      <td>0.0</td>\n",
              "      <td>0.0</td>\n",
              "      <td>0.0</td>\n",
              "      <td>0.0</td>\n",
              "      <td>0.0</td>\n",
              "      <td>0.0</td>\n",
              "      <td>0.0</td>\n",
              "      <td>0.0</td>\n",
              "      <td>0.0</td>\n",
              "      <td>...</td>\n",
              "      <td>0.0</td>\n",
              "      <td>0.0</td>\n",
              "      <td>0.0</td>\n",
              "      <td>0.0</td>\n",
              "      <td>0.0</td>\n",
              "      <td>0.0</td>\n",
              "      <td>0.0</td>\n",
              "      <td>0.0</td>\n",
              "      <td>0.0</td>\n",
              "      <td>0.0</td>\n",
              "    </tr>\n",
              "    <tr>\n",
              "      <th>...</th>\n",
              "      <td>...</td>\n",
              "      <td>...</td>\n",
              "      <td>...</td>\n",
              "      <td>...</td>\n",
              "      <td>...</td>\n",
              "      <td>...</td>\n",
              "      <td>...</td>\n",
              "      <td>...</td>\n",
              "      <td>...</td>\n",
              "      <td>...</td>\n",
              "      <td>...</td>\n",
              "      <td>...</td>\n",
              "      <td>...</td>\n",
              "      <td>...</td>\n",
              "      <td>...</td>\n",
              "      <td>...</td>\n",
              "      <td>...</td>\n",
              "      <td>...</td>\n",
              "      <td>...</td>\n",
              "      <td>...</td>\n",
              "      <td>...</td>\n",
              "    </tr>\n",
              "    <tr>\n",
              "      <th>16569</th>\n",
              "      <td>0.0</td>\n",
              "      <td>0.0</td>\n",
              "      <td>0.0</td>\n",
              "      <td>0.0</td>\n",
              "      <td>0.0</td>\n",
              "      <td>0.0</td>\n",
              "      <td>0.0</td>\n",
              "      <td>0.0</td>\n",
              "      <td>0.0</td>\n",
              "      <td>0.0</td>\n",
              "      <td>...</td>\n",
              "      <td>0.0</td>\n",
              "      <td>0.0</td>\n",
              "      <td>0.0</td>\n",
              "      <td>0.0</td>\n",
              "      <td>0.0</td>\n",
              "      <td>0.0</td>\n",
              "      <td>0.0</td>\n",
              "      <td>0.0</td>\n",
              "      <td>0.0</td>\n",
              "      <td>0.0</td>\n",
              "    </tr>\n",
              "    <tr>\n",
              "      <th>16570</th>\n",
              "      <td>0.0</td>\n",
              "      <td>0.0</td>\n",
              "      <td>0.0</td>\n",
              "      <td>0.0</td>\n",
              "      <td>0.0</td>\n",
              "      <td>0.0</td>\n",
              "      <td>0.0</td>\n",
              "      <td>0.0</td>\n",
              "      <td>0.0</td>\n",
              "      <td>0.0</td>\n",
              "      <td>...</td>\n",
              "      <td>0.0</td>\n",
              "      <td>0.0</td>\n",
              "      <td>0.0</td>\n",
              "      <td>0.0</td>\n",
              "      <td>0.0</td>\n",
              "      <td>0.0</td>\n",
              "      <td>0.0</td>\n",
              "      <td>0.0</td>\n",
              "      <td>0.0</td>\n",
              "      <td>0.0</td>\n",
              "    </tr>\n",
              "    <tr>\n",
              "      <th>16571</th>\n",
              "      <td>0.0</td>\n",
              "      <td>0.0</td>\n",
              "      <td>0.0</td>\n",
              "      <td>0.0</td>\n",
              "      <td>0.0</td>\n",
              "      <td>0.0</td>\n",
              "      <td>0.0</td>\n",
              "      <td>0.0</td>\n",
              "      <td>0.0</td>\n",
              "      <td>0.0</td>\n",
              "      <td>...</td>\n",
              "      <td>0.0</td>\n",
              "      <td>0.0</td>\n",
              "      <td>0.0</td>\n",
              "      <td>0.0</td>\n",
              "      <td>0.0</td>\n",
              "      <td>0.0</td>\n",
              "      <td>0.0</td>\n",
              "      <td>0.0</td>\n",
              "      <td>0.0</td>\n",
              "      <td>0.0</td>\n",
              "    </tr>\n",
              "    <tr>\n",
              "      <th>16572</th>\n",
              "      <td>0.0</td>\n",
              "      <td>0.0</td>\n",
              "      <td>0.0</td>\n",
              "      <td>0.0</td>\n",
              "      <td>0.0</td>\n",
              "      <td>0.0</td>\n",
              "      <td>0.0</td>\n",
              "      <td>0.0</td>\n",
              "      <td>0.0</td>\n",
              "      <td>0.0</td>\n",
              "      <td>...</td>\n",
              "      <td>0.0</td>\n",
              "      <td>0.0</td>\n",
              "      <td>0.0</td>\n",
              "      <td>0.0</td>\n",
              "      <td>0.0</td>\n",
              "      <td>0.0</td>\n",
              "      <td>0.0</td>\n",
              "      <td>0.0</td>\n",
              "      <td>0.0</td>\n",
              "      <td>0.0</td>\n",
              "    </tr>\n",
              "    <tr>\n",
              "      <th>16573</th>\n",
              "      <td>0.0</td>\n",
              "      <td>0.0</td>\n",
              "      <td>0.0</td>\n",
              "      <td>0.0</td>\n",
              "      <td>0.0</td>\n",
              "      <td>0.0</td>\n",
              "      <td>0.0</td>\n",
              "      <td>0.0</td>\n",
              "      <td>0.0</td>\n",
              "      <td>0.0</td>\n",
              "      <td>...</td>\n",
              "      <td>0.0</td>\n",
              "      <td>0.0</td>\n",
              "      <td>0.0</td>\n",
              "      <td>0.0</td>\n",
              "      <td>0.0</td>\n",
              "      <td>0.0</td>\n",
              "      <td>0.0</td>\n",
              "      <td>0.0</td>\n",
              "      <td>0.0</td>\n",
              "      <td>0.0</td>\n",
              "    </tr>\n",
              "  </tbody>\n",
              "</table>\n",
              "<p>16574 rows × 2604 columns</p>\n",
              "</div>\n",
              "      <button class=\"colab-df-convert\" onclick=\"convertToInteractive('df-6b4399a4-2fdf-4d89-82b2-2cac66825a82')\"\n",
              "              title=\"Convert this dataframe to an interactive table.\"\n",
              "              style=\"display:none;\">\n",
              "        \n",
              "  <svg xmlns=\"http://www.w3.org/2000/svg\" height=\"24px\"viewBox=\"0 0 24 24\"\n",
              "       width=\"24px\">\n",
              "    <path d=\"M0 0h24v24H0V0z\" fill=\"none\"/>\n",
              "    <path d=\"M18.56 5.44l.94 2.06.94-2.06 2.06-.94-2.06-.94-.94-2.06-.94 2.06-2.06.94zm-11 1L8.5 8.5l.94-2.06 2.06-.94-2.06-.94L8.5 2.5l-.94 2.06-2.06.94zm10 10l.94 2.06.94-2.06 2.06-.94-2.06-.94-.94-2.06-.94 2.06-2.06.94z\"/><path d=\"M17.41 7.96l-1.37-1.37c-.4-.4-.92-.59-1.43-.59-.52 0-1.04.2-1.43.59L10.3 9.45l-7.72 7.72c-.78.78-.78 2.05 0 2.83L4 21.41c.39.39.9.59 1.41.59.51 0 1.02-.2 1.41-.59l7.78-7.78 2.81-2.81c.8-.78.8-2.07 0-2.86zM5.41 20L4 18.59l7.72-7.72 1.47 1.35L5.41 20z\"/>\n",
              "  </svg>\n",
              "      </button>\n",
              "      \n",
              "  <style>\n",
              "    .colab-df-container {\n",
              "      display:flex;\n",
              "      flex-wrap:wrap;\n",
              "      gap: 12px;\n",
              "    }\n",
              "\n",
              "    .colab-df-convert {\n",
              "      background-color: #E8F0FE;\n",
              "      border: none;\n",
              "      border-radius: 50%;\n",
              "      cursor: pointer;\n",
              "      display: none;\n",
              "      fill: #1967D2;\n",
              "      height: 32px;\n",
              "      padding: 0 0 0 0;\n",
              "      width: 32px;\n",
              "    }\n",
              "\n",
              "    .colab-df-convert:hover {\n",
              "      background-color: #E2EBFA;\n",
              "      box-shadow: 0px 1px 2px rgba(60, 64, 67, 0.3), 0px 1px 3px 1px rgba(60, 64, 67, 0.15);\n",
              "      fill: #174EA6;\n",
              "    }\n",
              "\n",
              "    [theme=dark] .colab-df-convert {\n",
              "      background-color: #3B4455;\n",
              "      fill: #D2E3FC;\n",
              "    }\n",
              "\n",
              "    [theme=dark] .colab-df-convert:hover {\n",
              "      background-color: #434B5C;\n",
              "      box-shadow: 0px 1px 3px 1px rgba(0, 0, 0, 0.15);\n",
              "      filter: drop-shadow(0px 1px 2px rgba(0, 0, 0, 0.3));\n",
              "      fill: #FFFFFF;\n",
              "    }\n",
              "  </style>\n",
              "\n",
              "      <script>\n",
              "        const buttonEl =\n",
              "          document.querySelector('#df-6b4399a4-2fdf-4d89-82b2-2cac66825a82 button.colab-df-convert');\n",
              "        buttonEl.style.display =\n",
              "          google.colab.kernel.accessAllowed ? 'block' : 'none';\n",
              "\n",
              "        async function convertToInteractive(key) {\n",
              "          const element = document.querySelector('#df-6b4399a4-2fdf-4d89-82b2-2cac66825a82');\n",
              "          const dataTable =\n",
              "            await google.colab.kernel.invokeFunction('convertToInteractive',\n",
              "                                                     [key], {});\n",
              "          if (!dataTable) return;\n",
              "\n",
              "          const docLinkHtml = 'Like what you see? Visit the ' +\n",
              "            '<a target=\"_blank\" href=https://colab.research.google.com/notebooks/data_table.ipynb>data table notebook</a>'\n",
              "            + ' to learn more about interactive tables.';\n",
              "          element.innerHTML = '';\n",
              "          dataTable['output_type'] = 'display_data';\n",
              "          await google.colab.output.renderOutput(dataTable, element);\n",
              "          const docLink = document.createElement('div');\n",
              "          docLink.innerHTML = docLinkHtml;\n",
              "          element.appendChild(docLink);\n",
              "        }\n",
              "      </script>\n",
              "    </div>\n",
              "  </div>\n",
              "  "
            ]
          },
          "metadata": {},
          "execution_count": 95
        }
      ]
    },
    {
      "cell_type": "code",
      "source": [
        "X.index = range(len(X_merged))\n",
        "X_merged.index = range(len(X_merged))"
      ],
      "metadata": {
        "id": "6DGVlJwsPpiJ",
        "colab": {
          "base_uri": "https://localhost:8080/",
          "height": 187
        },
        "outputId": "78be9199-e26f-426e-eecb-e3bcf3197b42"
      },
      "execution_count": 97,
      "outputs": [
        {
          "output_type": "error",
          "ename": "NameError",
          "evalue": "ignored",
          "traceback": [
            "\u001b[0;31m---------------------------------------------------------------------------\u001b[0m",
            "\u001b[0;31mNameError\u001b[0m                                 Traceback (most recent call last)",
            "\u001b[0;32m<ipython-input-97-1eeb63849285>\u001b[0m in \u001b[0;36m<module>\u001b[0;34m\u001b[0m\n\u001b[0;32m----> 1\u001b[0;31m \u001b[0mX\u001b[0m\u001b[0;34m.\u001b[0m\u001b[0mindex\u001b[0m \u001b[0;34m=\u001b[0m \u001b[0mrange\u001b[0m\u001b[0;34m(\u001b[0m\u001b[0mlen\u001b[0m\u001b[0;34m(\u001b[0m\u001b[0mX_merged\u001b[0m\u001b[0;34m)\u001b[0m\u001b[0;34m)\u001b[0m\u001b[0;34m\u001b[0m\u001b[0;34m\u001b[0m\u001b[0m\n\u001b[0m\u001b[1;32m      2\u001b[0m \u001b[0mX_merged\u001b[0m\u001b[0;34m.\u001b[0m\u001b[0mindex\u001b[0m \u001b[0;34m=\u001b[0m \u001b[0mrange\u001b[0m\u001b[0;34m(\u001b[0m\u001b[0mlen\u001b[0m\u001b[0;34m(\u001b[0m\u001b[0mX_merged\u001b[0m\u001b[0;34m)\u001b[0m\u001b[0;34m)\u001b[0m\u001b[0;34m\u001b[0m\u001b[0;34m\u001b[0m\u001b[0m\n",
            "\u001b[0;31mNameError\u001b[0m: name 'X_merged' is not defined"
          ]
        }
      ]
    },
    {
      "cell_type": "code",
      "source": [
        "X_merged = pd.concat([position_cat, state_cat], axis=1)"
      ],
      "metadata": {
        "id": "TnkQPSFgFIe6"
      },
      "execution_count": null,
      "outputs": []
    },
    {
      "cell_type": "code",
      "source": [
        "y =  jobs['Job.ID'].reset_index(drop=True)"
      ],
      "metadata": {
        "id": "BTZzukEHHf4n"
      },
      "execution_count": null,
      "outputs": []
    },
    {
      "cell_type": "code",
      "source": [
        "from sklearn.model_selection import train_test_split"
      ],
      "metadata": {
        "id": "3jbZlEzVHlSw"
      },
      "execution_count": null,
      "outputs": []
    },
    {
      "cell_type": "code",
      "source": [
        "X_train, X_test, y_train, y_test = train_test_split(X_merged, y, test_size=0.2)"
      ],
      "metadata": {
        "id": "m0G28amdOzEt"
      },
      "execution_count": null,
      "outputs": []
    },
    {
      "cell_type": "code",
      "source": [
        "from xgboost import XGBRegressor\n",
        "from sklearn.metrics import mean_squared_error\n",
        "from sklearn.metrics.pairwise import cosine_distances"
      ],
      "metadata": {
        "id": "GUTEEeGQO6Ta"
      },
      "execution_count": null,
      "outputs": []
    },
    {
      "cell_type": "code",
      "source": [
        "model_xgb = XGBRegressor()"
      ],
      "metadata": {
        "id": "KtEUjmH7O-at"
      },
      "execution_count": null,
      "outputs": []
    },
    {
      "cell_type": "code",
      "source": [
        "model_xgb.fit(X_train, y_train)"
      ],
      "metadata": {
        "id": "KKs2sw2ePBTp"
      },
      "execution_count": null,
      "outputs": []
    },
    {
      "cell_type": "code",
      "source": [
        "print('Model XGB' + ' ' + str(model_xgb.score(X_train, y_train)))"
      ],
      "metadata": {
        "id": "yQeGQXylQ78J"
      },
      "execution_count": null,
      "outputs": []
    },
    {
      "cell_type": "code",
      "source": [
        "y_pred_train = model_xgb.predict(X_train)"
      ],
      "metadata": {
        "id": "vFzsrP0KRYZp"
      },
      "execution_count": null,
      "outputs": []
    },
    {
      "cell_type": "code",
      "source": [
        "mean_squared_error(y_train, y_pred_train, squared=False)"
      ],
      "metadata": {
        "id": "MtJotkQxRbt0"
      },
      "execution_count": null,
      "outputs": []
    },
    {
      "cell_type": "markdown",
      "source": [
        "### Cosine"
      ],
      "metadata": {
        "id": "aYqKZTg4SN76"
      }
    },
    {
      "cell_type": "code",
      "source": [
        "from sklearn.preprocessing import LabelEncoder"
      ],
      "metadata": {
        "id": "rcV7bMcVSp0V"
      },
      "execution_count": null,
      "outputs": []
    },
    {
      "cell_type": "code",
      "source": [
        "import scipy.sparse as ss"
      ],
      "metadata": {
        "id": "KAtEyYppT4kF"
      },
      "execution_count": null,
      "outputs": []
    },
    {
      "cell_type": "code",
      "source": [
        "le_slug = LabelEncoder()\n",
        "le_state = LabelEncoder()\n",
        "le_pos = LabelEncoder()"
      ],
      "metadata": {
        "id": "sEfS5s3VrwgB"
      },
      "execution_count": null,
      "outputs": []
    },
    {
      "cell_type": "code",
      "source": [
        "cosine_df = jobs[['State.Name', 'Position', 'Slug']]"
      ],
      "metadata": {
        "id": "ZKMy2wjMU5a8"
      },
      "execution_count": null,
      "outputs": []
    },
    {
      "cell_type": "code",
      "source": [
        "cosine_df['slug_id'] = le_slug.fit_transform(cosine_df['Slug'])"
      ],
      "metadata": {
        "id": "8R4ZiY5ArTbi"
      },
      "execution_count": null,
      "outputs": []
    },
    {
      "cell_type": "code",
      "source": [
        "cosine_df['state_id'] = le_state.fit_transform(cosine_df['State.Name'])"
      ],
      "metadata": {
        "id": "O3tDGPSbVtJG"
      },
      "execution_count": null,
      "outputs": []
    },
    {
      "cell_type": "code",
      "source": [
        "cosine_df['pos_id'] = le_pos.fit_transform(cosine_df['Position'])"
      ],
      "metadata": {
        "id": "8GZKJcSHVzuv"
      },
      "execution_count": null,
      "outputs": []
    },
    {
      "cell_type": "code",
      "source": [
        "ones = np.ones(len(cosine_df), np.uint32)"
      ],
      "metadata": {
        "id": "NqTabteIsBGA"
      },
      "execution_count": null,
      "outputs": []
    },
    {
      "cell_type": "code",
      "source": [
        "matrix = ss.coo_matrix((ones, (cosine_df['slug_id'], cosine_df['pos_id'])))"
      ],
      "metadata": {
        "id": "zj_9NsIVqUJ9"
      },
      "execution_count": null,
      "outputs": []
    },
    {
      "cell_type": "code",
      "source": [
        "matrix.todense()"
      ],
      "metadata": {
        "id": "uTLPfOavqcQv"
      },
      "execution_count": null,
      "outputs": []
    },
    {
      "cell_type": "code",
      "source": [
        "cosine_distance_matrix_places = cosine_distances(matrix)"
      ],
      "metadata": {
        "id": "MvifwZEfSTyz"
      },
      "execution_count": null,
      "outputs": []
    },
    {
      "cell_type": "code",
      "source": [
        "cosine_distance_matrix_places.shape"
      ],
      "metadata": {
        "id": "6F2QAyG0SetJ"
      },
      "execution_count": null,
      "outputs": []
    },
    {
      "cell_type": "code",
      "source": [
        "np.where(matrix.todense()[1] == 1)"
      ],
      "metadata": {
        "id": "tc0o4gYrWyG-"
      },
      "execution_count": null,
      "outputs": []
    },
    {
      "cell_type": "code",
      "source": [
        "cosine_df[cosine_df['slug_id'] == 3]"
      ],
      "metadata": {
        "id": "k5G5RwGtW6LS"
      },
      "execution_count": null,
      "outputs": []
    },
    {
      "cell_type": "code",
      "execution_count": null,
      "metadata": {
        "id": "36TKJ_UaBL_J"
      },
      "outputs": [],
      "source": [
        "jobs['Position'].value_counts().nlargest(50)  # missing caregiving, teacher, restaurant"
      ]
    },
    {
      "cell_type": "code",
      "source": [
        "# Try to implement One hot encoding in City and State.Name columns\n",
        "label_enconder_jobs = LabelEncoder()"
      ],
      "metadata": {
        "id": "n5NnbW7K7PEo"
      },
      "execution_count": null,
      "outputs": []
    },
    {
      "cell_type": "code",
      "source": [
        "jobs[:, 7] = label_enconder_jobs.fit_transform(jobs[:, 7])"
      ],
      "metadata": {
        "id": "gYIDuD8i7-qb"
      },
      "execution_count": null,
      "outputs": []
    },
    {
      "cell_type": "markdown",
      "source": [
        "### Test tabulation etc etc"
      ],
      "metadata": {
        "id": "kbw349Rm3ctE"
      }
    },
    {
      "cell_type": "code",
      "source": [
        "jobs.info()"
      ],
      "metadata": {
        "id": "0f6sx_f-S0kT"
      },
      "execution_count": null,
      "outputs": []
    },
    {
      "cell_type": "code",
      "source": [
        "pd.crosstab(jobs['Position'], jobs['State.Name'])"
      ],
      "metadata": {
        "id": "18i6gChVS7ts"
      },
      "execution_count": null,
      "outputs": []
    },
    {
      "cell_type": "code",
      "source": [
        "crosstab_jobs = pd.crosstab(jobs['Title'], jobs['State.Name'])"
      ],
      "metadata": {
        "id": "KcFep-UjTsxL"
      },
      "execution_count": null,
      "outputs": []
    },
    {
      "cell_type": "code",
      "source": [
        "# Try to implement content based recommendation system using jaccard similarity, finding similarity between the rows in jobs\n",
        "# import jaccard_score\n",
        "# Import pdist, squareform\n",
        "from sklearn.metrics import jaccard_score\n",
        "from scipy.spatial.distance import pdist, squareform"
      ],
      "metadata": {
        "id": "-dh7VBsCZN3m"
      },
      "execution_count": null,
      "outputs": []
    },
    {
      "cell_type": "code",
      "source": [
        "jaccard_distances = pdist(crosstab_jobs.values, metric='jaccard')"
      ],
      "metadata": {
        "id": "cUUbZisOa1v6"
      },
      "execution_count": null,
      "outputs": []
    },
    {
      "cell_type": "code",
      "source": [
        "jaccard_similarity_array = 1 - squareform(jaccard_distances)\n"
      ],
      "metadata": {
        "id": "xL4Wm6FVbDSB"
      },
      "execution_count": null,
      "outputs": []
    },
    {
      "cell_type": "code",
      "source": [
        "jaccard_similarity_df = pd.DataFrame(jaccard_similarity_array, index=crosstab_jobs.index, columns=crosstab_jobs.index)"
      ],
      "metadata": {
        "id": "BXjQWMJfbKEq"
      },
      "execution_count": null,
      "outputs": []
    },
    {
      "cell_type": "code",
      "source": [
        "print(jaccard_similarity_df.head())"
      ],
      "metadata": {
        "id": "sDC0gtdsbVOL"
      },
      "execution_count": null,
      "outputs": []
    },
    {
      "cell_type": "code",
      "source": [
        "jaccard_similarity_series = jaccard_similarity_df.loc['Accounting @ Confidential']"
      ],
      "metadata": {
        "id": "dQ3SmKfddl6q"
      },
      "execution_count": null,
      "outputs": []
    },
    {
      "cell_type": "code",
      "source": [
        "ordered_similarities = jaccard_similarity_series.sort_values(ascending=False)"
      ],
      "metadata": {
        "id": "6E61pD6Uduot"
      },
      "execution_count": null,
      "outputs": []
    },
    {
      "cell_type": "code",
      "source": [
        "print(ordered_similarities)"
      ],
      "metadata": {
        "id": "iohl6szUdw97"
      },
      "execution_count": null,
      "outputs": []
    },
    {
      "cell_type": "code",
      "source": [
        "# trying text based similarities\n",
        "from sklearn.feature_extraction.text import TfidfVectorizer"
      ],
      "metadata": {
        "id": "9wDAxCbBfzGz"
      },
      "execution_count": null,
      "outputs": []
    },
    {
      "cell_type": "code",
      "source": [
        "tfidfvec = TfidfVectorizer(min_df=2, max_df=0.7)"
      ],
      "metadata": {
        "id": "QZFstTRUnRdE"
      },
      "execution_count": null,
      "outputs": []
    },
    {
      "cell_type": "code",
      "source": [
        "vectorized_data = tfidfvec.fit_transform(jobs['Slug'])"
      ],
      "metadata": {
        "id": "uRgjHsxxndUq"
      },
      "execution_count": null,
      "outputs": []
    },
    {
      "cell_type": "code",
      "source": [
        "print(tfidfvec.get_feature_names)"
      ],
      "metadata": {
        "id": "QVOqmamenSPz"
      },
      "execution_count": null,
      "outputs": []
    },
    {
      "cell_type": "code",
      "source": [
        "vectorizer = TfidfVectorizer()"
      ],
      "metadata": {
        "id": "wf7Ad3Yrf90F"
      },
      "execution_count": null,
      "outputs": []
    },
    {
      "cell_type": "code",
      "source": [
        "X = vectorizer.fit_transform(jobs['Slug'])"
      ],
      "metadata": {
        "id": "19tfrtM3gSGL"
      },
      "execution_count": null,
      "outputs": []
    },
    {
      "cell_type": "code",
      "source": [
        "vectorizer.get_feature_names_out()"
      ],
      "metadata": {
        "id": "geghXGWmma7N"
      },
      "execution_count": null,
      "outputs": []
    },
    {
      "cell_type": "code",
      "source": [
        "print(X.shape)"
      ],
      "metadata": {
        "id": "xBbNnVm-mhly"
      },
      "execution_count": null,
      "outputs": []
    },
    {
      "cell_type": "code",
      "source": [
        "print(tfidfvec.get_feature_names)"
      ],
      "metadata": {
        "id": "8XLkfcICgX5L"
      },
      "execution_count": null,
      "outputs": []
    },
    {
      "cell_type": "code",
      "source": [
        "print(X.to_array())"
      ],
      "metadata": {
        "id": "_FtNDgashQfb"
      },
      "execution_count": null,
      "outputs": []
    },
    {
      "cell_type": "markdown",
      "metadata": {
        "id": "bz0CQ1bDzDXM"
      },
      "source": [
        "#### User Job views "
      ]
    },
    {
      "cell_type": "code",
      "execution_count": null,
      "metadata": {
        "id": "PlPz1U_SzOUB"
      },
      "outputs": [],
      "source": [
        "user_view = pd.read_csv('https://raw.githubusercontent.com/fr3drikk/the_dream_team-/main/App/Data/user_job_views.csv')"
      ]
    },
    {
      "cell_type": "code",
      "execution_count": null,
      "metadata": {
        "id": "N5duMZEmzgWH"
      },
      "outputs": [],
      "source": [
        "user_view.shape"
      ]
    },
    {
      "cell_type": "code",
      "source": [
        "user_view.head()"
      ],
      "metadata": {
        "id": "nASm7hkFt0j0"
      },
      "execution_count": null,
      "outputs": []
    },
    {
      "cell_type": "code",
      "execution_count": null,
      "metadata": {
        "id": "twixCfsBznhp"
      },
      "outputs": [],
      "source": [
        "user_view.info()"
      ]
    },
    {
      "cell_type": "code",
      "execution_count": null,
      "metadata": {
        "id": "198siilfz3IG"
      },
      "outputs": [],
      "source": [
        "user_view.isna().sum().sort_values()"
      ]
    },
    {
      "cell_type": "code",
      "execution_count": null,
      "metadata": {
        "id": "Bb7s4dfu0d82"
      },
      "outputs": [],
      "source": [
        "user_view = user_view.drop(['Industry'], axis=1)\n"
      ]
    },
    {
      "cell_type": "code",
      "execution_count": null,
      "metadata": {
        "id": "QvGbuidp1POx"
      },
      "outputs": [],
      "source": [
        "user_view['Company'] = user_view['Company'].fillna('Unspecified')"
      ]
    },
    {
      "cell_type": "code",
      "execution_count": null,
      "metadata": {
        "id": "Aa84bqkD1oUr"
      },
      "outputs": [],
      "source": [
        "user_view.isna().sum().sort_values()"
      ]
    },
    {
      "cell_type": "code",
      "execution_count": null,
      "metadata": {
        "id": "4q1sM-pm1uYV"
      },
      "outputs": [],
      "source": [
        "user_view  = user_view.dropna(subset=['State.Name'])"
      ]
    },
    {
      "cell_type": "code",
      "execution_count": null,
      "metadata": {
        "id": "oNKjCURU3y_M"
      },
      "outputs": [],
      "source": [
        "# we calculate the mean of the duration and fill the missing values with it\n",
        "user_view['View.Duration'] = user_view['View.Duration'].fillna(user_view['View.Duration'].mean())"
      ]
    },
    {
      "cell_type": "code",
      "execution_count": null,
      "metadata": {
        "id": "NjPSWRSu4u0f"
      },
      "outputs": [],
      "source": [
        "# we change the form of created at, updated at, view start, view end, from objects to datetime\n",
        "user_view['Created.At'] = pd.to_datetime(user_view['Created.At'])\n",
        "user_view['Updated.At'] = pd.to_datetime(user_view['Updated.At'])"
      ]
    },
    {
      "cell_type": "code",
      "execution_count": null,
      "metadata": {
        "id": "Do75X7eB5wuh"
      },
      "outputs": [],
      "source": [
        "user_view['View.Start'] = pd.to_datetime(user_view['View.Start'])\n",
        "user_view['View.End'] = pd.to_datetime(user_view['View.End'])"
      ]
    },
    {
      "cell_type": "code",
      "execution_count": null,
      "metadata": {
        "id": "-9Od4lht55cn"
      },
      "outputs": [],
      "source": [
        "# it works : )\n",
        "user_view.info()"
      ]
    },
    {
      "cell_type": "code",
      "execution_count": null,
      "metadata": {
        "id": "MPHqYlru6HXV"
      },
      "outputs": [],
      "source": [
        "# we decided to not care about view end, since we have view start and the duration, that is sufficient.\n",
        "user_view['View.Duration'].head()"
      ]
    },
    {
      "cell_type": "code",
      "execution_count": null,
      "metadata": {
        "id": "Py1pSmRnfDAE"
      },
      "outputs": [],
      "source": [
        "# it works : )\n",
        "user_view.info()"
      ]
    },
    {
      "cell_type": "code",
      "execution_count": null,
      "metadata": {
        "id": "mWvmloJmfB1s"
      },
      "outputs": [],
      "source": [
        "# it works : )\n",
        "user_view.info()"
      ]
    },
    {
      "cell_type": "code",
      "execution_count": null,
      "metadata": {
        "id": "N4nrSPvsJg0c"
      },
      "outputs": [],
      "source": [
        "# To figure out how many articles a user views on average, we have to see how many times a specific Applicant.iD has been stored.\n",
        "# We make a new variable, application_counts, where how many times a value occurs is stored. \n",
        "applicant_counts  = pd.value_counts(user_view['Applicant.ID'])"
      ]
    },
    {
      "cell_type": "code",
      "execution_count": null,
      "metadata": {
        "id": "mx-msNw-J00f"
      },
      "outputs": [],
      "source": [
        "# We then take the mean of this list, and get the average views a user has.\n",
        "applicant_counts.mean()"
      ]
    },
    {
      "cell_type": "markdown",
      "metadata": {
        "id": "qFZ2ZWBD9ABO"
      },
      "source": [
        "### User experience"
      ]
    },
    {
      "cell_type": "code",
      "execution_count": null,
      "metadata": {
        "id": "Qsp0hyLe7B2b"
      },
      "outputs": [],
      "source": [
        "user_exp = pd.read_csv('https://raw.githubusercontent.com/fr3drikk/the_dream_team-/main/App/Data/user_past_experience.csv')"
      ]
    },
    {
      "cell_type": "code",
      "execution_count": null,
      "metadata": {
        "id": "Ow4xI-Yf9Hia"
      },
      "outputs": [],
      "source": [
        "df.merge"
      ]
    },
    {
      "cell_type": "code",
      "execution_count": null,
      "metadata": {
        "id": "WWa7li4z9JsL"
      },
      "outputs": [],
      "source": [
        "user_exp.shape"
      ]
    },
    {
      "cell_type": "code",
      "source": [
        "user_exp.head()"
      ],
      "metadata": {
        "id": "pTnL4HZItrUZ"
      },
      "execution_count": null,
      "outputs": []
    },
    {
      "cell_type": "code",
      "execution_count": null,
      "metadata": {
        "id": "uf8TlJD49P2R"
      },
      "outputs": [],
      "source": [
        "user_exp.isna().sum().sort_values()"
      ]
    },
    {
      "cell_type": "code",
      "execution_count": null,
      "metadata": {
        "id": "8tPE1uSi9VlR"
      },
      "outputs": [],
      "source": [
        "user_exp['Position.Name'].value_counts()"
      ]
    },
    {
      "cell_type": "markdown",
      "metadata": {
        "id": "7uVcRur6-P4m"
      },
      "source": [
        "### User work interest"
      ]
    },
    {
      "cell_type": "code",
      "execution_count": null,
      "metadata": {
        "id": "gfSqkz-f-TRc"
      },
      "outputs": [],
      "source": [
        "user_int = pd.read_csv('https://raw.githubusercontent.com/fr3drikk/the_dream_team-/main/App/Data/user_work_interest.csv')"
      ]
    },
    {
      "cell_type": "code",
      "execution_count": null,
      "metadata": {
        "id": "s2wdlrEc-bK8"
      },
      "outputs": [],
      "source": [
        "user_int['Position.Of.Interest'].value_counts().nlargest(10)"
      ]
    },
    {
      "cell_type": "code",
      "execution_count": null,
      "metadata": {
        "id": "u1Mja6k8lh6L"
      },
      "outputs": [],
      "source": [
        "½user_int['Position.Of.Interest'].value_counts().nlargest(20)"
      ]
    },
    {
      "cell_type": "code",
      "execution_count": null,
      "metadata": {
        "id": "fDmYQD6u-dxX"
      },
      "outputs": [],
      "source": [
        "user_int.isna().sum().sort_values()"
      ]
    },
    {
      "cell_type": "code",
      "execution_count": null,
      "metadata": {
        "id": "znnB1tDH-hQf"
      },
      "outputs": [],
      "source": [
        "user_int.shape"
      ]
    },
    {
      "cell_type": "code",
      "source": [
        "user_int.head()"
      ],
      "metadata": {
        "id": "6aTPi8hEtgkZ"
      },
      "execution_count": null,
      "outputs": []
    },
    {
      "cell_type": "code",
      "execution_count": null,
      "metadata": {
        "id": "P8wigqhG-ldC"
      },
      "outputs": [],
      "source": [
        "user_int['Applicant.ID'].nunique()"
      ]
    },
    {
      "cell_type": "markdown",
      "metadata": {
        "id": "xGJCyClPAk6U"
      },
      "source": [
        "### EDA STUFF"
      ]
    },
    {
      "cell_type": "markdown",
      "metadata": {
        "id": "ZVSu9z2oLew2"
      },
      "source": [
        "# on average a user looks at x jobposts "
      ]
    },
    {
      "cell_type": "code",
      "execution_count": null,
      "metadata": {
        "id": "AfHnUbIVLaWY"
      },
      "outputs": [],
      "source": [
        "# To figure out how many articles a user views on average, we have to see how many times a specific Applicant.iD has been stored.\n",
        "# We make a new variable, application_counts, where how many times a value occurs is stored. \n",
        "applicant_counts  = pd.value_counts(user_view['Applicant.ID'])"
      ]
    },
    {
      "cell_type": "code",
      "execution_count": null,
      "metadata": {
        "id": "gCTr8tJlLaWZ"
      },
      "outputs": [],
      "source": [
        "# We then take the mean of this list, and get the average views a user has.\n",
        "applicant_counts.mean()"
      ]
    },
    {
      "cell_type": "markdown",
      "metadata": {
        "id": "oIW8bOhyqp37"
      },
      "source": [
        "## How long are articles seen on average"
      ]
    },
    {
      "cell_type": "code",
      "execution_count": null,
      "metadata": {
        "id": "trhBNy9PTXwp"
      },
      "outputs": [],
      "source": [
        "#As we can see, we have quite a high mean of 2522 seconds pr. article.\n",
        "user_view['View.Duration'].mean()"
      ]
    },
    {
      "cell_type": "code",
      "execution_count": null,
      "metadata": {
        "id": "o_ApoxKpAuJd"
      },
      "outputs": [],
      "source": [
        "# We check the boxplot of the View Duration and we notice that there are some outliers that could be heavily impacting this score.\n",
        "user_view.boxplot('View.Duration')"
      ]
    },
    {
      "cell_type": "code",
      "execution_count": null,
      "metadata": {
        "id": "1gbXz4v6hpu8"
      },
      "outputs": [],
      "source": [
        "# Here we mask every value in View.Duration that falls outside the 95th quantile and 05th quantile. If there are values as such, they will be changed to NaN\n",
        "user_view['View.Duration'] = user_view['View.Duration'].mask(((user_view['View.Duration']< user_view['View.Duration'].quantile(0.05)) | (user_view['View.Duration'] > user_view['View.Duration'].quantile(0.95))), np.nan)"
      ]
    },
    {
      "cell_type": "code",
      "execution_count": null,
      "metadata": {
        "id": "mwznkwrXP_vh"
      },
      "outputs": [],
      "source": [
        "# Here we check how many values fell outside the quantile range.\n",
        "user_view['View.Duration'].isna().sum()"
      ]
    },
    {
      "cell_type": "code",
      "execution_count": null,
      "metadata": {
        "id": "15JQ_QPBmnOG"
      },
      "outputs": [],
      "source": [
        "# We import Sklearn SimpleImputer, to fill the missing values. \n",
        "from sklearn.impute import SimpleImputer"
      ]
    },
    {
      "cell_type": "code",
      "execution_count": null,
      "metadata": {
        "id": "3WQe30AsnrOv"
      },
      "outputs": [],
      "source": [
        "# We instantiate the simple imputer, to convert the values back to the median. The median is chosen since the mean is quite high.\n",
        "imputer = SimpleImputer(missing_values=np.NaN, strategy='median')"
      ]
    },
    {
      "cell_type": "code",
      "execution_count": null,
      "metadata": {
        "id": "xyZ9wudMnvpo"
      },
      "outputs": [],
      "source": [
        "user_view['View.Duration'] = imputer.fit_transform(user_view['View.Duration'].values.reshape(-1,1))[:,0]"
      ]
    },
    {
      "cell_type": "code",
      "execution_count": null,
      "metadata": {
        "id": "rBcU5JdcltJe"
      },
      "outputs": [],
      "source": [
        "user_view['View.Duration'].mean()"
      ]
    },
    {
      "cell_type": "code",
      "execution_count": null,
      "metadata": {
        "id": "DQDS1jhTAyTT"
      },
      "outputs": [],
      "source": [
        "# a correlation matrix between education required and jobpositions (requires grouping of positions)"
      ]
    },
    {
      "cell_type": "code",
      "execution_count": null,
      "metadata": {
        "id": "ZQqvp0JBDjYn"
      },
      "outputs": [],
      "source": [
        "##### text recognizitionon stuff ^ "
      ]
    },
    {
      "cell_type": "code",
      "execution_count": null,
      "metadata": {
        "id": "fXBbVKWmA-vQ"
      },
      "outputs": [],
      "source": [
        "# timeline with the development of jobposts , e.g. over weeks , months , years , fulltime/parttime , states , slider "
      ]
    },
    {
      "cell_type": "code",
      "execution_count": null,
      "metadata": {
        "id": "X1p8BZy1CU8H"
      },
      "outputs": [],
      "source": [
        "# seasonal peaks of jobposts ^ summer,winter,fall ETC"
      ]
    },
    {
      "cell_type": "code",
      "execution_count": null,
      "metadata": {
        "id": "IkbpQJ20BeJS"
      },
      "outputs": [],
      "source": [
        "# geoplotting , location of jobs , statebased perhaps, interactive map where you can hoover over and see the information in ze map"
      ]
    },
    {
      "cell_type": "code",
      "execution_count": null,
      "metadata": {
        "id": "aU8pJ4BLBzu6"
      },
      "outputs": [],
      "source": [
        "# grade 10 , map with your recommended jobs"
      ]
    },
    {
      "cell_type": "code",
      "execution_count": null,
      "metadata": {
        "id": "gkEqwPheCFAx"
      },
      "outputs": [],
      "source": [
        "# extra stuff for nice frontend, like a tab with cv stuff n stuff"
      ]
    },
    {
      "cell_type": "code",
      "execution_count": null,
      "metadata": {
        "id": "9_5EPLG0CtrM"
      },
      "outputs": [],
      "source": [
        "# most popular jobposts (views), compared with duration users spend on those posts, bait titles or actually interesting?"
      ]
    },
    {
      "cell_type": "code",
      "execution_count": null,
      "metadata": {
        "id": "io2_xcW2DBkz"
      },
      "outputs": [],
      "source": [
        "# companies with most jobposts, big companies? small companies with high turnover rates? etc, "
      ]
    },
    {
      "cell_type": "code",
      "execution_count": null,
      "metadata": {
        "id": "qhdZdAy-rqfA"
      },
      "outputs": [],
      "source": [
        "company_job = jobs.groupby(['Job.ID', 'Company']).size().sort_values(ascending=True).reset_index(name='count')"
      ]
    },
    {
      "cell_type": "code",
      "execution_count": null,
      "metadata": {
        "id": "C6iOjyWes5jx"
      },
      "outputs": [],
      "source": []
    },
    {
      "cell_type": "code",
      "execution_count": null,
      "metadata": {
        "id": "BhIcRr00KQfv"
      },
      "outputs": [],
      "source": [
        "# to group some of our variables"
      ]
    },
    {
      "cell_type": "code",
      "execution_count": null,
      "metadata": {
        "id": "4ZTxCVW7sgSF"
      },
      "outputs": [],
      "source": []
    },
    {
      "cell_type": "markdown",
      "metadata": {
        "id": "_ac6NW9vkX1K"
      },
      "source": [
        "# NHN"
      ]
    },
    {
      "cell_type": "markdown",
      "metadata": {
        "id": "ucFoI150qYIw"
      },
      "source": [
        "## Geoplotting"
      ]
    },
    {
      "cell_type": "code",
      "execution_count": null,
      "metadata": {
        "id": "h7hUgdNdkZxu"
      },
      "outputs": [],
      "source": [
        "# geoplotting with pydeck\n",
        "\n",
        "# additional imports\n",
        "!pip install pydeck -q\n",
        "import pydeck as pdk\n",
        "\n",
        "# defining the map\n",
        "layer = pdk.Layer(\n",
        "        \"ScatterplotLayer\",\n",
        "        data=jobs[['Company','Position','State.Name', 'City', 'Employment.Type', \"Longitude\", \"Latitude\"]],\n",
        "        pickable=True,\n",
        "        opacity=0.7,\n",
        "        stroked=True,\n",
        "        filled=True,\n",
        "        radius_scale=10,\n",
        "        radius_min_pixels=1,\n",
        "        radius_max_pixels=100,\n",
        "        line_width_min_pixels=1,\n",
        "        get_position=[\"Longitude\", \"Latitude\"],\n",
        "        get_radius=\"exits_radius\",\n",
        "        get_color=[255, 140, 0],\n",
        "        get_line_color=[0, 0, 0],\n",
        "    )\n",
        "\n",
        "\n",
        "# Set the viewport location\n",
        "view_state = pdk.ViewState(latitude=jobs['Latitude'].mean(), longitude=jobs['Longitude'].mean(), zoom=4, pitch=50)\n",
        "\n",
        "# Renders\n",
        "jobs_map = pdk.Deck(layers=[layer], \n",
        "initial_view_state=view_state,\n",
        "\n",
        "#map_style='mapbox://styles/mapbox/light-v9',\n",
        "tooltip={\"text\": \"Company: {Company}\\nPosition: {Position}\\n Employment type: {Employment.Type}\"})"
      ]
    },
    {
      "cell_type": "code",
      "execution_count": null,
      "metadata": {
        "id": "Oe5dYV3MmSNa"
      },
      "outputs": [],
      "source": [
        "jobs_map"
      ]
    },
    {
      "cell_type": "code",
      "execution_count": null,
      "metadata": {
        "id": "eqoWtfKdGAiL"
      },
      "outputs": [],
      "source": [
        "# geoplotting with folium\n",
        "\n",
        "# Installs\n",
        "!pip install folium\n",
        "\n",
        "# Import folium and plugins from folium to create the map\n",
        "import folium\n",
        "from folium.plugins import MarkerCluster"
      ]
    },
    {
      "cell_type": "code",
      "execution_count": null,
      "metadata": {
        "id": "HBS71o32GAiN"
      },
      "outputs": [],
      "source": [
        "# Create a sample from the jobs dataframe. The dataframe of 80.0000 rows is too big for the map to handle (it will run but not show any map)\n",
        "# Testing so far shows that a sample of 20.000 rows is manageable, whereas 30.000 rows is too many\n",
        "\n",
        "jobs_map_data = jobs.sample(10000)"
      ]
    },
    {
      "cell_type": "code",
      "execution_count": null,
      "metadata": {
        "id": "_VdHhMOIGKZj"
      },
      "outputs": [],
      "source": [
        "# Define a marker cluster\n",
        "\n",
        "marker_cluster = MarkerCluster(\n",
        "    name='Jobs Map',\n",
        "    overlay=True,\n",
        "    control=False,\n",
        "    icon_create_function=None,\n",
        "    showCoverageOnHover = False\n",
        ")"
      ]
    },
    {
      "cell_type": "code",
      "execution_count": null,
      "metadata": {
        "id": "2z0d9jIhGAiO"
      },
      "outputs": [],
      "source": [
        "#define the map\n",
        "jobs_map_pydeck = folium.Map(location=[40.742, -73.956])\n",
        "\n",
        "#add prettier base-layer\n",
        "folium.TileLayer('cartodbpositron').add_to(jobs_map_pydeck)\n",
        "\n",
        "#add points (in a loop)\n",
        "for j in jobs_map_data.iterrows(): # <--- using the whole dataset\n",
        "    marker = folium.Circle(\n",
        "        radius=10,\n",
        "        location=[j[1]['Latitude'], j[1]['Longitude']],\n",
        "        tooltip=j[1]['Company'],\n",
        "        popup= (f\"<b>{j[1]['Company']}</b>\\n {j[1]['Position']}</b>\\n {j[1]['Employment.Type']}\"),\n",
        "        color='purple',\n",
        "        fill=True\n",
        "    )\n",
        "    marker_cluster.add_child(marker) # <<--- here we add the marker to the cluster rather than to the map directly\n",
        "\n",
        "marker_cluster.add_to(jobs_map_pydeck)\n",
        "\n",
        "locations = zip(jobs_map_data['Latitude'], jobs_map_data['Longitude'])"
      ]
    },
    {
      "cell_type": "code",
      "execution_count": null,
      "metadata": {
        "id": "-FAUBovwGAiP"
      },
      "outputs": [],
      "source": [
        "jobs_map_pydeck"
      ]
    },
    {
      "cell_type": "markdown",
      "metadata": {
        "id": "FUnVG-Zdqcep"
      },
      "source": [
        "## Various metrics"
      ]
    },
    {
      "cell_type": "code",
      "execution_count": null,
      "metadata": {
        "id": "s5B9ESTxkhMG"
      },
      "outputs": [],
      "source": [
        "# calculating various metrics\n",
        "open_positions = jobs['Job.ID'].nunique()\n",
        "companies_hiring = jobs['Company'].nunique()\n",
        "active_jobhunters = user_view['Applicant.ID'].nunique()\n",
        "avg_job_posts_viewed_per_jobhunter = (user_view['Job.ID'].value_counts().sum() / user_view['Applicant.ID'].nunique()).round(2)\n",
        "avg_viewtime_per_job_post = (user_view['View.Duration'].mean() / 60).round(2)"
      ]
    },
    {
      "cell_type": "code",
      "execution_count": null,
      "metadata": {
        "id": "JHsBFIUElKs1"
      },
      "outputs": [],
      "source": [
        "print(open_positions)\n",
        "print(companies_hiring)\n",
        "print(active_jobhunters)\n",
        "print(avg_job_posts_viewed_per_jobhunter)\n",
        "print(avg_viewtime_per_job_post) # value is different from streamlit because Casper's outlier removal is applied here"
      ]
    },
    {
      "cell_type": "markdown",
      "metadata": {
        "id": "B5uPMF8NqfSf"
      },
      "source": [
        "## Timeline of job postings"
      ]
    },
    {
      "cell_type": "code",
      "execution_count": null,
      "metadata": {
        "id": "eUoS8SpdlWSA"
      },
      "outputs": [],
      "source": [
        "# creating a pivot table with rows=date, columns=employment.type and values=counts in order to visualize a timeline dividable by employment type\n",
        "\n",
        "jobs['Date'] = pd.to_datetime(jobs['Created.At']).dt.date\n",
        "jobs_pivot = pd.pivot_table(jobs, values='Job.ID', index='Date', columns='Employment.Type', aggfunc='count')"
      ]
    },
    {
      "cell_type": "code",
      "execution_count": null,
      "metadata": {
        "id": "8jkeJatXn-G6"
      },
      "outputs": [],
      "source": [
        "jobs_pivot"
      ]
    },
    {
      "cell_type": "code",
      "execution_count": null,
      "metadata": {
        "id": "vmXZjr3JsHYM"
      },
      "outputs": [],
      "source": [
        "# visualizing the pivot table\n",
        "\n",
        "import plotly.express as px # additional import\n",
        "\n",
        "jobs_pivot_plot = px.line(jobs_pivot)\n",
        "jobs_pivot_plot.show()"
      ]
    },
    {
      "cell_type": "markdown",
      "metadata": {
        "id": "dnUqUJeGqizo"
      },
      "source": [
        "## Top five"
      ]
    },
    {
      "cell_type": "code",
      "execution_count": null,
      "metadata": {
        "id": "oJXkIT0Voee5"
      },
      "outputs": [],
      "source": [
        "top_5_companies = jobs['Company'].value_counts().nlargest(5)\n",
        "top_5_companies"
      ]
    },
    {
      "cell_type": "code",
      "execution_count": null,
      "metadata": {
        "id": "undALRcRqxhl"
      },
      "outputs": [],
      "source": [
        "top_5_positions = jobs['Position'].value_counts().nlargest(5)\n",
        "top_5_positions"
      ]
    }
  ],
  "metadata": {
    "colab": {
      "collapsed_sections": [
        "bz0CQ1bDzDXM",
        "qFZ2ZWBD9ABO",
        "7uVcRur6-P4m"
      ],
      "provenance": [],
      "include_colab_link": true
    },
    "kernelspec": {
      "display_name": "Python 3",
      "name": "python3"
    },
    "language_info": {
      "name": "python"
    }
  },
  "nbformat": 4,
  "nbformat_minor": 0
}